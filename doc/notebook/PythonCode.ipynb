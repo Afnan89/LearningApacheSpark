{
 "cells": [
  {
   "cell_type": "code",
   "execution_count": 20,
   "metadata": {
    "collapsed": true
   },
   "outputs": [],
   "source": [
    "import pandas as pd\n",
    "import numpy as np"
   ]
  },
  {
   "cell_type": "code",
   "execution_count": 13,
   "metadata": {
    "collapsed": false
   },
   "outputs": [],
   "source": [
    "raw_data = pd.read_csv('InputFile.txt', sep=\"\\t\")"
   ]
  },
  {
   "cell_type": "code",
   "execution_count": 53,
   "metadata": {
    "collapsed": false
   },
   "outputs": [
    {
     "data": {
      "text/html": [
       "<div>\n",
       "<table border=\"1\" class=\"dataframe\">\n",
       "  <thead>\n",
       "    <tr style=\"text-align: right;\">\n",
       "      <th></th>\n",
       "      <th>MeshQualified</th>\n",
       "    </tr>\n",
       "  </thead>\n",
       "  <tbody>\n",
       "    <tr>\n",
       "      <th>0</th>\n",
       "      <td>[Adrenalectomy]  [Adrenocortical Hyperfunction...</td>\n",
       "    </tr>\n",
       "    <tr>\n",
       "      <th>1</th>\n",
       "      <td>[Amniotic Fluid]  [Female]  [Humans]  [Hyperse...</td>\n",
       "    </tr>\n",
       "    <tr>\n",
       "      <th>2</th>\n",
       "      <td>[Amino Acids]  [Chlorophyll]  [Chloroplasts]  ...</td>\n",
       "    </tr>\n",
       "    <tr>\n",
       "      <th>3</th>\n",
       "      <td>[Adult]  [Animals]  [Blood Gas Analysis]  [Car...</td>\n",
       "    </tr>\n",
       "    <tr>\n",
       "      <th>4</th>\n",
       "      <td>[Animals]  [Antimetabolites]  [Bone Marrow]  [...</td>\n",
       "    </tr>\n",
       "  </tbody>\n",
       "</table>\n",
       "</div>"
      ],
      "text/plain": [
       "                                       MeshQualified\n",
       "0  [Adrenalectomy]  [Adrenocortical Hyperfunction...\n",
       "1  [Amniotic Fluid]  [Female]  [Humans]  [Hyperse...\n",
       "2  [Amino Acids]  [Chlorophyll]  [Chloroplasts]  ...\n",
       "3  [Adult]  [Animals]  [Blood Gas Analysis]  [Car...\n",
       "4  [Animals]  [Antimetabolites]  [Bone Marrow]  [..."
      ]
     },
     "execution_count": 53,
     "metadata": {},
     "output_type": "execute_result"
    }
   ],
   "source": [
    "raw_data.head()"
   ]
  },
  {
   "cell_type": "code",
   "execution_count": 31,
   "metadata": {
    "collapsed": false
   },
   "outputs": [
    {
     "data": {
      "text/plain": [
       "MeshQualified    100000\n",
       "dtype: int64"
      ]
     },
     "execution_count": 31,
     "metadata": {},
     "output_type": "execute_result"
    }
   ],
   "source": [
    "raw_data.count()"
   ]
  },
  {
   "cell_type": "code",
   "execution_count": 33,
   "metadata": {
    "collapsed": false
   },
   "outputs": [],
   "source": [
    "u_raw_data = raw_data.drop_duplicates('MeshQualified')"
   ]
  },
  {
   "cell_type": "code",
   "execution_count": 54,
   "metadata": {
    "collapsed": false
   },
   "outputs": [
    {
     "data": {
      "text/html": [
       "<div>\n",
       "<table border=\"1\" class=\"dataframe\">\n",
       "  <thead>\n",
       "    <tr style=\"text-align: right;\">\n",
       "      <th></th>\n",
       "      <th>MeshQualified</th>\n",
       "    </tr>\n",
       "  </thead>\n",
       "  <tbody>\n",
       "    <tr>\n",
       "      <th>0</th>\n",
       "      <td>[Adrenalectomy]  [Adrenocortical Hyperfunction...</td>\n",
       "    </tr>\n",
       "    <tr>\n",
       "      <th>1</th>\n",
       "      <td>[Amniotic Fluid]  [Female]  [Humans]  [Hyperse...</td>\n",
       "    </tr>\n",
       "    <tr>\n",
       "      <th>2</th>\n",
       "      <td>[Amino Acids]  [Chlorophyll]  [Chloroplasts]  ...</td>\n",
       "    </tr>\n",
       "    <tr>\n",
       "      <th>3</th>\n",
       "      <td>[Adult]  [Animals]  [Blood Gas Analysis]  [Car...</td>\n",
       "    </tr>\n",
       "    <tr>\n",
       "      <th>4</th>\n",
       "      <td>[Animals]  [Antimetabolites]  [Bone Marrow]  [...</td>\n",
       "    </tr>\n",
       "  </tbody>\n",
       "</table>\n",
       "</div>"
      ],
      "text/plain": [
       "                                       MeshQualified\n",
       "0  [Adrenalectomy]  [Adrenocortical Hyperfunction...\n",
       "1  [Amniotic Fluid]  [Female]  [Humans]  [Hyperse...\n",
       "2  [Amino Acids]  [Chlorophyll]  [Chloroplasts]  ...\n",
       "3  [Adult]  [Animals]  [Blood Gas Analysis]  [Car...\n",
       "4  [Animals]  [Antimetabolites]  [Bone Marrow]  [..."
      ]
     },
     "execution_count": 54,
     "metadata": {},
     "output_type": "execute_result"
    }
   ],
   "source": [
    "u_raw_data.head()"
   ]
  },
  {
   "cell_type": "code",
   "execution_count": 44,
   "metadata": {
    "collapsed": false
   },
   "outputs": [
    {
     "data": {
      "text/plain": [
       "93405"
      ]
     },
     "execution_count": 44,
     "metadata": {},
     "output_type": "execute_result"
    }
   ],
   "source": [
    "len(u_raw_data)"
   ]
  },
  {
   "cell_type": "code",
   "execution_count": 50,
   "metadata": {
    "collapsed": false
   },
   "outputs": [
    {
     "data": {
      "text/plain": [
       "['Adrenalectomy', 'AdrenocorticalHyperfunction', 'AlcoholicIntoxication']"
      ]
     },
     "execution_count": 50,
     "metadata": {},
     "output_type": "execute_result"
    }
   ],
   "source": [
    "import re\n",
    "x = '[Adrenalectomy]  [Adrenocortical Hyperfunction]  [Alcoholic Intoxication]'\n",
    "x1 = x.strip('[|]')\n",
    "x2 = re.split('\\]\\s+\\[', x1)\n",
    "[''.join(y.split()) for y in x2]"
   ]
  },
  {
   "cell_type": "code",
   "execution_count": 55,
   "metadata": {
    "collapsed": false
   },
   "outputs": [
    {
     "data": {
      "text/plain": [
       "'[Adrenalectomy]  [Adrenocortical Hyperfunction]  [Alcoholic Intoxication]  [Blood Chemical Analysis]  [Colorimetry]  [Corticosterone]  [Ethanol]  [Glucuronidase]  [Rats]  [Research]  [Toxicology]'"
      ]
     },
     "execution_count": 55,
     "metadata": {},
     "output_type": "execute_result"
    }
   ],
   "source": [
    "u_raw_data[\"MeshQualified\"][0]"
   ]
  },
  {
   "cell_type": "code",
   "execution_count": 58,
   "metadata": {
    "collapsed": false
   },
   "outputs": [],
   "source": [
    "import re\n",
    "def keywords_parser(u_raw_data):\n",
    "    for i in range(len(u_raw_data)):\n",
    "        s = u_raw_data[\"MeshQualified\"][i]\n",
    "        s = s.replace(',', '')\n",
    "        s1 = s.strip('[|]')\n",
    "        s2 = re.split('\\]\\s+\\[', s1)\n",
    "        return [''.join(y.split()) for y in s2]\n"
   ]
  },
  {
   "cell_type": "code",
   "execution_count": 61,
   "metadata": {
    "collapsed": false
   },
   "outputs": [],
   "source": [
    "df = keywords_parser(u_raw_data)"
   ]
  },
  {
   "cell_type": "code",
   "execution_count": 62,
   "metadata": {
    "collapsed": false
   },
   "outputs": [
    {
     "data": {
      "text/plain": [
       "['Adrenalectomy',\n",
       " 'AdrenocorticalHyperfunction',\n",
       " 'AlcoholicIntoxication',\n",
       " 'BloodChemicalAnalysis',\n",
       " 'Colorimetry',\n",
       " 'Corticosterone',\n",
       " 'Ethanol',\n",
       " 'Glucuronidase',\n",
       " 'Rats',\n",
       " 'Research',\n",
       " 'Toxicology']"
      ]
     },
     "execution_count": 62,
     "metadata": {},
     "output_type": "execute_result"
    }
   ],
   "source": [
    "df"
   ]
  },
  {
   "cell_type": "code",
   "execution_count": 63,
   "metadata": {
    "collapsed": false
   },
   "outputs": [
    {
     "name": "stdout",
     "output_type": "stream",
     "text": [
      "0\n",
      "1\n",
      "2\n"
     ]
    }
   ],
   "source": [
    "for i in range(3):\n",
    "    print(i)"
   ]
  },
  {
   "cell_type": "code",
   "execution_count": null,
   "metadata": {
    "collapsed": true
   },
   "outputs": [],
   "source": []
  }
 ],
 "metadata": {
  "anaconda-cloud": {},
  "kernelspec": {
   "display_name": "Python [default]",
   "language": "python",
   "name": "python3"
  },
  "language_info": {
   "codemirror_mode": {
    "name": "ipython",
    "version": 3
   },
   "file_extension": ".py",
   "mimetype": "text/x-python",
   "name": "python",
   "nbconvert_exporter": "python",
   "pygments_lexer": "ipython3",
   "version": "3.5.2"
  }
 },
 "nbformat": 4,
 "nbformat_minor": 1
}

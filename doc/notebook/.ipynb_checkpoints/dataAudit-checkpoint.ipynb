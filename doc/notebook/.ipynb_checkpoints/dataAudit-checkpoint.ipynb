{
 "cells": [
  {
   "cell_type": "code",
   "execution_count": 1,
   "metadata": {
    "collapsed": true
   },
   "outputs": [],
   "source": [
    "from pyspark.sql import SparkSession\n",
    "\n",
    "spark = SparkSession \\\n",
    "    .builder \\\n",
    "    .appName(\"Python data audit example\") \\\n",
    "    .config(\"spark.some.config.option\", \"some-value\") \\\n",
    "    .getOrCreate()"
   ]
  },
  {
   "cell_type": "code",
   "execution_count": 2,
   "metadata": {},
   "outputs": [
    {
     "name": "stdout",
     "output_type": "stream",
     "text": [
      "+---+-----------+-------+---------+-------+-------+-------+----+--------+--------+--------+-----+--------+---+\n",
      "|age|        job|marital|education|default|balance|housing|loan| contact|duration|campaign|pdays|previous|  y|\n",
      "+---+-----------+-------+---------+-------+-------+-------+----+--------+--------+--------+-----+--------+---+\n",
      "| 30| unemployed|married|  primary|     no|   1787|     no|  no|cellular|      79|       1|   -1|       0| no|\n",
      "| 33|   services|married|secondary|     no|   4789|    yes| yes|cellular|     220|       1|  339|       4| no|\n",
      "| 35| management| single| tertiary|     no|   1350|    yes|  no|cellular|     185|       1|  330|       1| no|\n",
      "| 30| management|married| tertiary|     no|   1476|    yes| yes| unknown|     199|       4|   -1|       0| no|\n",
      "| 59|blue-collar|married|secondary|     no|      0|    yes|  no| unknown|     226|       1|   -1|       0| no|\n",
      "+---+-----------+-------+---------+-------+-------+-------+----+--------+--------+--------+-----+--------+---+\n",
      "only showing top 5 rows\n",
      "\n"
     ]
    }
   ],
   "source": [
    "df = spark.read.format('com.databricks.spark.csv') \\\n",
    "            .options(header='true', inferschema='true') \\\n",
    "            .load(\"../data/bank.csv\",header=True);\n",
    "df.drop('day','month','poutcome').show(5)"
   ]
  },
  {
   "cell_type": "code",
   "execution_count": 3,
   "metadata": {},
   "outputs": [
    {
     "name": "stdout",
     "output_type": "stream",
     "text": [
      "root\n",
      " |-- age: integer (nullable = true)\n",
      " |-- job: string (nullable = true)\n",
      " |-- marital: string (nullable = true)\n",
      " |-- education: string (nullable = true)\n",
      " |-- default: string (nullable = true)\n",
      " |-- balance: integer (nullable = true)\n",
      " |-- housing: string (nullable = true)\n",
      " |-- loan: string (nullable = true)\n",
      " |-- contact: string (nullable = true)\n",
      " |-- day: integer (nullable = true)\n",
      " |-- month: string (nullable = true)\n",
      " |-- duration: integer (nullable = true)\n",
      " |-- campaign: integer (nullable = true)\n",
      " |-- pdays: integer (nullable = true)\n",
      " |-- previous: integer (nullable = true)\n",
      " |-- poutcome: string (nullable = true)\n",
      " |-- y: string (nullable = true)\n",
      "\n"
     ]
    }
   ],
   "source": [
    "df.printSchema()"
   ]
  },
  {
   "cell_type": "code",
   "execution_count": 26,
   "metadata": {},
   "outputs": [
    {
     "ename": "AttributeError",
     "evalue": "'IntegerType' object has no attribute 'encode'",
     "output_type": "error",
     "traceback": [
      "\u001b[0;31m---------------------------------------------------------------------------\u001b[0m",
      "\u001b[0;31mAttributeError\u001b[0m                            Traceback (most recent call last)",
      "\u001b[0;32m<ipython-input-26-65541dcf75d0>\u001b[0m in \u001b[0;36m<module>\u001b[0;34m()\u001b[0m\n\u001b[1;32m      1\u001b[0m \u001b[0mtypes\u001b[0m \u001b[0;34m=\u001b[0m \u001b[0;34m[\u001b[0m\u001b[0mf\u001b[0m\u001b[0;34m.\u001b[0m\u001b[0mdataType\u001b[0m \u001b[0;32mfor\u001b[0m \u001b[0mf\u001b[0m \u001b[0;32min\u001b[0m \u001b[0mdf\u001b[0m\u001b[0;34m.\u001b[0m\u001b[0mschema\u001b[0m\u001b[0;34m.\u001b[0m\u001b[0mfields\u001b[0m\u001b[0;34m]\u001b[0m\u001b[0;34m\u001b[0m\u001b[0m\n\u001b[0;32m----> 2\u001b[0;31m \u001b[0;34m[\u001b[0m\u001b[0mx\u001b[0m\u001b[0;34m.\u001b[0m\u001b[0mencode\u001b[0m\u001b[0;34m(\u001b[0m\u001b[0;34m'utf-8'\u001b[0m\u001b[0;34m)\u001b[0m \u001b[0;32mfor\u001b[0m \u001b[0mx\u001b[0m \u001b[0;32min\u001b[0m \u001b[0mtypes\u001b[0m\u001b[0;34m]\u001b[0m\u001b[0;34m\u001b[0m\u001b[0m\n\u001b[0m",
      "\u001b[0;31mAttributeError\u001b[0m: 'IntegerType' object has no attribute 'encode'"
     ]
    }
   ],
   "source": [
    "types = [f.dataType for f in df.schema.fields]"
   ]
  },
  {
   "cell_type": "code",
   "execution_count": 29,
   "metadata": {},
   "outputs": [
    {
     "data": {
      "text/plain": [
       "[('age', 'int'),\n",
       " ('job', 'string'),\n",
       " ('marital', 'string'),\n",
       " ('education', 'string'),\n",
       " ('default', 'string'),\n",
       " ('balance', 'int'),\n",
       " ('housing', 'string'),\n",
       " ('loan', 'string'),\n",
       " ('contact', 'string'),\n",
       " ('day', 'int'),\n",
       " ('month', 'string'),\n",
       " ('duration', 'int'),\n",
       " ('campaign', 'int'),\n",
       " ('pdays', 'int'),\n",
       " ('previous', 'int'),\n",
       " ('poutcome', 'string'),\n",
       " ('y', 'string')]"
      ]
     },
     "execution_count": 29,
     "metadata": {},
     "output_type": "execute_result"
    }
   ],
   "source": [
    "df.dtypes"
   ]
  },
  {
   "cell_type": "code",
   "execution_count": 30,
   "metadata": {},
   "outputs": [],
   "source": [
    "out = spark.createDataFrame(df.dtypes).toDF('Names','Types')"
   ]
  },
  {
   "cell_type": "code",
   "execution_count": 31,
   "metadata": {},
   "outputs": [
    {
     "name": "stdout",
     "output_type": "stream",
     "text": [
      "+---------+------+\n",
      "|    Names| Types|\n",
      "+---------+------+\n",
      "|      age|   int|\n",
      "|      job|string|\n",
      "|  marital|string|\n",
      "|education|string|\n",
      "|  default|string|\n",
      "|  balance|   int|\n",
      "|  housing|string|\n",
      "|     loan|string|\n",
      "|  contact|string|\n",
      "|      day|   int|\n",
      "|    month|string|\n",
      "| duration|   int|\n",
      "| campaign|   int|\n",
      "|    pdays|   int|\n",
      "| previous|   int|\n",
      "| poutcome|string|\n",
      "|        y|string|\n",
      "+---------+------+\n",
      "\n"
     ]
    }
   ],
   "source": [
    "out.show()"
   ]
  },
  {
   "cell_type": "code",
   "execution_count": 39,
   "metadata": {},
   "outputs": [
    {
     "name": "stdout",
     "output_type": "stream",
     "text": [
      "+-------+-------+\n",
      "|summary|    job|\n",
      "+-------+-------+\n",
      "|  count|   4521|\n",
      "|   mean|   null|\n",
      "| stddev|   null|\n",
      "|    min| admin.|\n",
      "|    max|unknown|\n",
      "+-------+-------+\n",
      "\n"
     ]
    }
   ],
   "source": [
    "df.select('job').describe().show()"
   ]
  },
  {
   "cell_type": "code",
   "execution_count": 47,
   "metadata": {},
   "outputs": [
    {
     "name": "stdout",
     "output_type": "stream",
     "text": [
      "+-----------------+---+---+\n",
      "|             mean|min|max|\n",
      "+-----------------+---+---+\n",
      "|41.17009511170095| 19| 87|\n",
      "+-----------------+---+---+\n",
      "\n",
      "+----+------+-------+\n",
      "|mean|   min|    max|\n",
      "+----+------+-------+\n",
      "|null|admin.|unknown|\n",
      "+----+------+-------+\n",
      "\n",
      "+----+--------+------+\n",
      "|mean|     min|   max|\n",
      "+----+--------+------+\n",
      "|null|divorced|single|\n",
      "+----+--------+------+\n",
      "\n",
      "+----+-------+-------+\n",
      "|mean|    min|    max|\n",
      "+----+-------+-------+\n",
      "|null|primary|unknown|\n",
      "+----+-------+-------+\n",
      "\n",
      "+----+---+---+\n",
      "|mean|min|max|\n",
      "+----+---+---+\n",
      "|null| no|yes|\n",
      "+----+---+---+\n",
      "\n",
      "+------------------+-----+-----+\n",
      "|              mean|  min|  max|\n",
      "+------------------+-----+-----+\n",
      "|1422.6578190665782|-3313|71188|\n",
      "+------------------+-----+-----+\n",
      "\n",
      "+----+---+---+\n",
      "|mean|min|max|\n",
      "+----+---+---+\n",
      "|null| no|yes|\n",
      "+----+---+---+\n",
      "\n",
      "+----+---+---+\n",
      "|mean|min|max|\n",
      "+----+---+---+\n",
      "|null| no|yes|\n",
      "+----+---+---+\n",
      "\n",
      "+----+--------+-------+\n",
      "|mean|     min|    max|\n",
      "+----+--------+-------+\n",
      "|null|cellular|unknown|\n",
      "+----+--------+-------+\n",
      "\n",
      "+------------------+---+---+\n",
      "|              mean|min|max|\n",
      "+------------------+---+---+\n",
      "|15.915284229152842|  1| 31|\n",
      "+------------------+---+---+\n",
      "\n",
      "+----+---+---+\n",
      "|mean|min|max|\n",
      "+----+---+---+\n",
      "|null|apr|sep|\n",
      "+----+---+---+\n",
      "\n",
      "+------------------+---+----+\n",
      "|              mean|min| max|\n",
      "+------------------+---+----+\n",
      "|263.96129174961294|  4|3025|\n",
      "+------------------+---+----+\n",
      "\n",
      "+-----------------+---+---+\n",
      "|             mean|min|max|\n",
      "+-----------------+---+---+\n",
      "|2.793629727936297|  1| 50|\n",
      "+-----------------+---+---+\n",
      "\n",
      "+------------------+---+---+\n",
      "|              mean|min|max|\n",
      "+------------------+---+---+\n",
      "|39.766644547666445| -1|871|\n",
      "+------------------+---+---+\n",
      "\n",
      "+------------------+---+---+\n",
      "|              mean|min|max|\n",
      "+------------------+---+---+\n",
      "|0.5425790754257908|  0| 25|\n",
      "+------------------+---+---+\n",
      "\n",
      "+----+-------+-------+\n",
      "|mean|    min|    max|\n",
      "+----+-------+-------+\n",
      "|null|failure|unknown|\n",
      "+----+-------+-------+\n",
      "\n",
      "+----+---+---+\n",
      "|mean|min|max|\n",
      "+----+---+---+\n",
      "|null| no|yes|\n",
      "+----+---+---+\n",
      "\n"
     ]
    }
   ],
   "source": [
    "from pyspark.sql.functions import mean, min, max\n",
    "\n",
    "for i in df.columns:\n",
    "\n",
    "    df.select([mean(i).alias('mean'), min(i).alias('min'), max(i).alias('max')]).show()"
   ]
  },
  {
   "cell_type": "code",
   "execution_count": 38,
   "metadata": {},
   "outputs": [
    {
     "name": "stdout",
     "output_type": "stream",
     "text": [
      "+-----------+---+---+\n",
      "|age_default| no|yes|\n",
      "+-----------+---+---+\n",
      "|         69|  6|  0|\n",
      "|         56| 72|  2|\n",
      "|         42|138|  3|\n",
      "|         24| 23|  1|\n",
      "|         37|158|  3|\n",
      "|         25| 43|  1|\n",
      "|         52| 86|  0|\n",
      "|         20|  3|  0|\n",
      "|         46|119|  0|\n",
      "|         57| 87|  4|\n",
      "|         78|  3|  0|\n",
      "|         29| 97|  0|\n",
      "|         84|  1|  0|\n",
      "|         61| 16|  0|\n",
      "|         74|  3|  0|\n",
      "|         60| 47|  0|\n",
      "|         28|102|  1|\n",
      "|         38|158|  1|\n",
      "|         70|  7|  0|\n",
      "|         21|  7|  0|\n",
      "+-----------+---+---+\n",
      "only showing top 20 rows\n",
      "\n"
     ]
    }
   ],
   "source": [
    "df.crosstab('age','default').show()"
   ]
  },
  {
   "cell_type": "code",
   "execution_count": 49,
   "metadata": {},
   "outputs": [
    {
     "name": "stdout",
     "output_type": "stream",
     "text": [
      "+---+---+---+\n",
      "|  a|  b|  c|\n",
      "+---+---+---+\n",
      "|  1|  2|  3|\n",
      "|  1|  2|  1|\n",
      "|  1|  2|  3|\n",
      "|  3|  6|  3|\n",
      "|  1|  2|  3|\n",
      "|  5| 10|  1|\n",
      "|  1|  2|  3|\n",
      "|  7| 14|  3|\n",
      "|  1|  2|  3|\n",
      "|  9| 18|  1|\n",
      "|  1|  2|  3|\n",
      "| 11| 22|  3|\n",
      "|  1|  2|  3|\n",
      "| 13| 26|  1|\n",
      "|  1|  2|  3|\n",
      "| 15| 30|  3|\n",
      "|  1|  2|  3|\n",
      "| 17| 34|  1|\n",
      "|  1|  2|  3|\n",
      "| 19| 38|  3|\n",
      "+---+---+---+\n",
      "only showing top 20 rows\n",
      "\n"
     ]
    }
   ],
   "source": [
    "df = spark.createDataFrame([(1, 2, 3) if i % 2 == 0 else (i, 2 * i, i % 4) for i in range(100)], [\"a\", \"b\", \"c\"])\n",
    "df.show()"
   ]
  },
  {
   "cell_type": "code",
   "execution_count": 50,
   "metadata": {},
   "outputs": [
    {
     "name": "stdout",
     "output_type": "stream",
     "text": [
      "+-----------+-----------+-----------+\n",
      "|a_freqItems|b_freqItems|c_freqItems|\n",
      "+-----------+-----------+-----------+\n",
      "|    [11, 1]|    [2, 22]|     [1, 3]|\n",
      "+-----------+-----------+-----------+\n",
      "\n"
     ]
    }
   ],
   "source": [
    "# Given the above DataFrame, the following code finds the\n",
    "# frequent items that show up 40% of the time for each column:\n",
    "freq = df.stat.freqItems([\"a\", \"b\", \"c\"], 0.4)\n",
    "freq.show()"
   ]
  },
  {
   "cell_type": "code",
   "execution_count": null,
   "metadata": {
    "collapsed": true
   },
   "outputs": [],
   "source": []
  }
 ],
 "metadata": {
  "kernelspec": {
   "display_name": "Python 2",
   "language": "python",
   "name": "python2"
  },
  "language_info": {
   "codemirror_mode": {
    "name": "ipython",
    "version": 2
   },
   "file_extension": ".py",
   "mimetype": "text/x-python",
   "name": "python",
   "nbconvert_exporter": "python",
   "pygments_lexer": "ipython2",
   "version": "2.7.13"
  }
 },
 "nbformat": 4,
 "nbformat_minor": 2
}

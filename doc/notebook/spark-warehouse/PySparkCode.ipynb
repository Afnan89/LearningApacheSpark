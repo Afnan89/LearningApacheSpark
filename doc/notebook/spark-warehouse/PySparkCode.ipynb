{
 "cells": [
  {
   "cell_type": "markdown",
   "metadata": {},
   "source": [
    "# 1. Set up spark context and SparkSession"
   ]
  },
  {
   "cell_type": "code",
   "execution_count": 1,
   "metadata": {
    "collapsed": false
   },
   "outputs": [],
   "source": [
    "from pyspark.sql import SparkSession\n",
    "\n",
    "spark = SparkSession \\\n",
    "    .builder \\\n",
    "    .appName(\"Python Spark SQL basic example\") \\\n",
    "    .config(\"spark.some.config.option\", \"some-value\") \\\n",
    "    .getOrCreate()\n"
   ]
  },
  {
   "cell_type": "markdown",
   "metadata": {},
   "source": [
    "# 2. Load dataset"
   ]
  },
  {
   "cell_type": "code",
   "execution_count": 2,
   "metadata": {
    "collapsed": true
   },
   "outputs": [],
   "source": [
    "raw_data = spark.read.csv('InputFile.txt', inferSchema=True, sep='\\t',header=True).toDF('words')"
   ]
  },
  {
   "cell_type": "code",
   "execution_count": 3,
   "metadata": {
    "collapsed": false
   },
   "outputs": [
    {
     "data": {
      "text/plain": [
       "100000"
      ]
     },
     "execution_count": 3,
     "metadata": {},
     "output_type": "execute_result"
    }
   ],
   "source": [
    "raw_data.count()"
   ]
  },
  {
   "cell_type": "code",
   "execution_count": 4,
   "metadata": {
    "collapsed": false
   },
   "outputs": [
    {
     "data": {
      "text/plain": [
       "93405"
      ]
     },
     "execution_count": 4,
     "metadata": {},
     "output_type": "execute_result"
    }
   ],
   "source": [
    "raw_data.distinct().count()"
   ]
  },
  {
   "cell_type": "markdown",
   "metadata": {},
   "source": [
    "# 3.  Clean and Manipulation"
   ]
  },
  {
   "cell_type": "code",
   "execution_count": 5,
   "metadata": {
    "collapsed": false
   },
   "outputs": [],
   "source": [
    "u_raw_data= raw_data.distinct()"
   ]
  },
  {
   "cell_type": "code",
   "execution_count": 6,
   "metadata": {
    "collapsed": false
   },
   "outputs": [
    {
     "data": {
      "text/plain": [
       "93405"
      ]
     },
     "execution_count": 6,
     "metadata": {},
     "output_type": "execute_result"
    }
   ],
   "source": [
    "u_raw_data.count()"
   ]
  },
  {
   "cell_type": "code",
   "execution_count": 7,
   "metadata": {
    "collapsed": false
   },
   "outputs": [
    {
     "data": {
      "text/plain": [
       "pyspark.sql.dataframe.DataFrame"
      ]
     },
     "execution_count": 7,
     "metadata": {},
     "output_type": "execute_result"
    }
   ],
   "source": [
    "type(u_raw_data)"
   ]
  },
  {
   "cell_type": "code",
   "execution_count": 8,
   "metadata": {
    "collapsed": false
   },
   "outputs": [
    {
     "name": "stdout",
     "output_type": "stream",
     "text": [
      "+---------------------------------------------------------------------------------------------------------------------------------------------------------------------------------------------------------------------------------------------------------+\n",
      "|words                                                                                                                                                                                                                                                    |\n",
      "+---------------------------------------------------------------------------------------------------------------------------------------------------------------------------------------------------------------------------------------------------------+\n",
      "|[ACTH Syndrome, Ectopic]  [Adrenal Gland Neoplasms]  [Adrenocorticotropic Hormone]  [Corticotropin-Releasing Hormone]  [Cushing Syndrome]  [Dexamethasone]  [Diagnosis, Differential]  [Humans]  [Hydrocortisone]                                        |\n",
      "|[Antibody Formation]  [Culture Techniques]  [Female]  [HeLa Cells]  [Humans]  [Immune Sera]  [Neoplasms]  [Stomach]  [Uterus]  [gamma-Globulins]                                                                                                         |\n",
      "|[Adaptation, Physiological]  [Animals]  [Cilia]  [Epithelium]  [Gills]  [Hypertonic Solutions]  [In Vitro Techniques]  [Methods]  [Mollusca]  [Salts]  [Seawater]  [Water]                                                                               |\n",
      "|[Aerosol Propellants]  [Albuterol]  [Asthma]  [Bronchodilator Agents]  [Device Approval]  [Humans]  [Hydrocarbons, Fluorinated]  [Lung Diseases, Obstructive]  [Nebulizers and Vaporizers]  [United States]  [United States Food and Drug Administration]|\n",
      "+---------------------------------------------------------------------------------------------------------------------------------------------------------------------------------------------------------------------------------------------------------+\n",
      "only showing top 4 rows\n",
      "\n"
     ]
    }
   ],
   "source": [
    "u_raw_data.show(4, truncate=False)"
   ]
  },
  {
   "cell_type": "code",
   "execution_count": 9,
   "metadata": {
    "collapsed": false
   },
   "outputs": [],
   "source": [
    "## define udf function\n",
    "import re\n",
    "from pyspark.sql.functions import udf\n",
    "from pyspark.sql.types import *\n",
    "def keywords_parser(s):\n",
    "    s = s.replace(',', '')\n",
    "    s1 = s.strip('[|]')\n",
    "    s2 = re.split('\\]\\s+\\[', s1)\n",
    "    return [''.join(y.split()) for y in s2]"
   ]
  },
  {
   "cell_type": "code",
   "execution_count": 10,
   "metadata": {
    "collapsed": false
   },
   "outputs": [
    {
     "name": "stdout",
     "output_type": "stream",
     "text": [
      "CPU times: user 5.94 ms, sys: 2.04 ms, total: 7.97 ms\n",
      "Wall time: 47.7 ms\n"
     ]
    }
   ],
   "source": [
    "%time keywords_parser_udf = udf(keywords_parser, ArrayType(StringType()))"
   ]
  },
  {
   "cell_type": "code",
   "execution_count": 11,
   "metadata": {
    "collapsed": false
   },
   "outputs": [
    {
     "name": "stdout",
     "output_type": "stream",
     "text": [
      "CPU times: user 3.83 ms, sys: 1.78 ms, total: 5.61 ms\n",
      "Wall time: 67.4 ms\n"
     ]
    }
   ],
   "source": [
    "%time df = u_raw_data.select(keywords_parser_udf(u_raw_data.words)).toDF('term')"
   ]
  },
  {
   "cell_type": "code",
   "execution_count": 13,
   "metadata": {
    "collapsed": false
   },
   "outputs": [
    {
     "name": "stdout",
     "output_type": "stream",
     "text": [
      "+---------------------------------------------------------------------------------------------------------------------------------------------------------------------------------------------------------------------+\n",
      "|term                                                                                                                                                                                                                 |\n",
      "+---------------------------------------------------------------------------------------------------------------------------------------------------------------------------------------------------------------------+\n",
      "|[ACTHSyndromeEctopic, AdrenalGlandNeoplasms, AdrenocorticotropicHormone, Corticotropin-ReleasingHormone, CushingSyndrome, Dexamethasone, DiagnosisDifferential, Humans, Hydrocortisone]                              |\n",
      "|[AntibodyFormation, CultureTechniques, Female, HeLaCells, Humans, ImmuneSera, Neoplasms, Stomach, Uterus, gamma-Globulins]                                                                                           |\n",
      "|[AdaptationPhysiological, Animals, Cilia, Epithelium, Gills, HypertonicSolutions, InVitroTechniques, Methods, Mollusca, Salts, Seawater, Water]                                                                      |\n",
      "|[AerosolPropellants, Albuterol, Asthma, BronchodilatorAgents, DeviceApproval, Humans, HydrocarbonsFluorinated, LungDiseasesObstructive, NebulizersandVaporizers, UnitedStates, UnitedStatesFoodandDrugAdministration]|\n",
      "+---------------------------------------------------------------------------------------------------------------------------------------------------------------------------------------------------------------------+\n",
      "only showing top 4 rows\n",
      "\n"
     ]
    }
   ],
   "source": [
    "df.show(4, truncate=False)"
   ]
  },
  {
   "cell_type": "markdown",
   "metadata": {
    "collapsed": false
   },
   "source": [
    "# 4. Build corpus and document-term matrix"
   ]
  },
  {
   "cell_type": "code",
   "execution_count": 12,
   "metadata": {
    "collapsed": false
   },
   "outputs": [
    {
     "name": "stdout",
     "output_type": "stream",
     "text": [
      "CPU times: user 835 µs, sys: 0 ns, total: 835 µs\n",
      "Wall time: 19.7 ms\n"
     ]
    }
   ],
   "source": [
    "from pyspark.ml.feature import CountVectorizer\n",
    "%time count_vectorizer_wo = CountVectorizer(inputCol='term', outputCol='features')\n",
    "# with total unique vocabulary\n",
    "countVectorizer_mod_wo = count_vectorizer_wo.fit(df)\n",
    "countVectorizer_twitter_wo = countVectorizer_mod_wo.transform(df)\n",
    "# with truncated unique vocabulary (99%)\n",
    "count_vectorizer = CountVectorizer(vocabSize=48,inputCol='term',outputCol='features')\n",
    "countVectorizer_mod = count_vectorizer.fit(df)\n",
    "countVectorizer_twitter = countVectorizer_mod.transform(df)"
   ]
  },
  {
   "cell_type": "markdown",
   "metadata": {},
   "source": [
    "### 4.1 build corpus"
   ]
  },
  {
   "cell_type": "code",
   "execution_count": 13,
   "metadata": {
    "collapsed": false
   },
   "outputs": [
    {
     "data": {
      "text/plain": [
       "17373"
      ]
     },
     "execution_count": 13,
     "metadata": {},
     "output_type": "execute_result"
    }
   ],
   "source": [
    "#total unique vocabulary\n",
    "voca_wo = countVectorizer_mod_wo.vocabulary\n",
    "len(voca_wo)"
   ]
  },
  {
   "cell_type": "code",
   "execution_count": 14,
   "metadata": {
    "collapsed": false
   },
   "outputs": [
    {
     "data": {
      "text/plain": [
       "48"
      ]
     },
     "execution_count": 14,
     "metadata": {},
     "output_type": "execute_result"
    }
   ],
   "source": [
    "voca = countVectorizer_mod.vocabulary\n",
    "len(voca)"
   ]
  },
  {
   "cell_type": "code",
   "execution_count": 15,
   "metadata": {
    "collapsed": false
   },
   "outputs": [],
   "source": [
    "with open(\"voca.txt\", \"w\") as f:\n",
    "    for s in voca:\n",
    "        f.write(str(s) +\"\\n\")"
   ]
  },
  {
   "cell_type": "markdown",
   "metadata": {},
   "source": [
    "### 4.2 build document-term matrix"
   ]
  },
  {
   "cell_type": "code",
   "execution_count": 16,
   "metadata": {
    "collapsed": false
   },
   "outputs": [],
   "source": [
    "df = countVectorizer_twitter.select('features')"
   ]
  },
  {
   "cell_type": "code",
   "execution_count": 17,
   "metadata": {
    "collapsed": false
   },
   "outputs": [
    {
     "data": {
      "text/plain": [
       "93405"
      ]
     },
     "execution_count": 17,
     "metadata": {},
     "output_type": "execute_result"
    }
   ],
   "source": [
    "df.count()"
   ]
  },
  {
   "cell_type": "code",
   "execution_count": 18,
   "metadata": {
    "collapsed": false
   },
   "outputs": [
    {
     "name": "stdout",
     "output_type": "stream",
     "text": [
      "+----------------------------------------------------------+\n",
      "|features                                                  |\n",
      "+----------------------------------------------------------+\n",
      "|(48,[0,26],[1.0,1.0])                                     |\n",
      "|(48,[0,2,13],[1.0,1.0,1.0])                               |\n",
      "|(48,[1,22,24],[1.0,1.0,1.0])                              |\n",
      "|(48,[0,28],[1.0,1.0])                                     |\n",
      "|(48,[],[])                                                |\n",
      "|(48,[0,3,4,44],[1.0,1.0,1.0,1.0])                         |\n",
      "|(48,[0,2,3,4,5,9],[1.0,1.0,1.0,1.0,1.0,1.0])              |\n",
      "|(48,[0,2,3,20,39],[1.0,1.0,1.0,1.0,1.0])                  |\n",
      "|(48,[1,42],[1.0,1.0])                                     |\n",
      "|(48,[0,28],[1.0,1.0])                                     |\n",
      "|(48,[0],[1.0])                                            |\n",
      "|(48,[1,18,39],[1.0,1.0,1.0])                              |\n",
      "|(48,[0],[1.0])                                            |\n",
      "|(48,[0],[1.0])                                            |\n",
      "|(48,[0,39],[1.0,1.0])                                     |\n",
      "|(48,[0,1],[1.0,1.0])                                      |\n",
      "|(48,[0,2,3,4,7,9,15,26],[1.0,1.0,1.0,1.0,1.0,1.0,1.0,1.0])|\n",
      "|(48,[0,17,31],[1.0,1.0,1.0])                              |\n",
      "|(48,[0,7,13],[1.0,1.0,1.0])                               |\n",
      "|(48,[0],[1.0])                                            |\n",
      "+----------------------------------------------------------+\n",
      "only showing top 20 rows\n",
      "\n"
     ]
    }
   ],
   "source": [
    "df.show(truncate=False)"
   ]
  },
  {
   "cell_type": "code",
   "execution_count": 19,
   "metadata": {
    "collapsed": false
   },
   "outputs": [
    {
     "data": {
      "text/plain": [
       "pyspark.sql.dataframe.DataFrame"
      ]
     },
     "execution_count": 19,
     "metadata": {},
     "output_type": "execute_result"
    }
   ],
   "source": [
    "type(df)"
   ]
  },
  {
   "cell_type": "code",
   "execution_count": 20,
   "metadata": {
    "collapsed": false
   },
   "outputs": [
    {
     "data": {
      "text/plain": [
       "93405"
      ]
     },
     "execution_count": 20,
     "metadata": {},
     "output_type": "execute_result"
    }
   ],
   "source": [
    "df.count()"
   ]
  },
  {
   "cell_type": "markdown",
   "metadata": {},
   "source": [
    "# 5. Pyspark sparse vectors to scipy sparse matrix"
   ]
  },
  {
   "cell_type": "code",
   "execution_count": 21,
   "metadata": {
    "collapsed": false
   },
   "outputs": [],
   "source": [
    "from pyspark.ml.linalg import SparseVector\n",
    "from operator import attrgetter\n",
    "features = df.rdd.map(attrgetter(\"features\"))"
   ]
  },
  {
   "cell_type": "code",
   "execution_count": 22,
   "metadata": {
    "collapsed": false
   },
   "outputs": [
    {
     "data": {
      "text/plain": [
       "pyspark.rdd.PipelinedRDD"
      ]
     },
     "execution_count": 22,
     "metadata": {},
     "output_type": "execute_result"
    }
   ],
   "source": [
    "type(features)"
   ]
  },
  {
   "cell_type": "code",
   "execution_count": 23,
   "metadata": {
    "collapsed": false
   },
   "outputs": [],
   "source": [
    "indexed_features = features.zipWithIndex()"
   ]
  },
  {
   "cell_type": "code",
   "execution_count": 24,
   "metadata": {
    "collapsed": false
   },
   "outputs": [],
   "source": [
    "def explode(row):\n",
    "    vec, i = row\n",
    "    for j, v in zip(vec.indices, vec.values):\n",
    "        yield i, j, v\n",
    "\n",
    "entries = indexed_features.flatMap(explode)"
   ]
  },
  {
   "cell_type": "code",
   "execution_count": 25,
   "metadata": {
    "collapsed": true
   },
   "outputs": [],
   "source": [
    "row_indices, col_indices, data = zip(*entries.collect())"
   ]
  },
  {
   "cell_type": "code",
   "execution_count": 26,
   "metadata": {
    "collapsed": false
   },
   "outputs": [],
   "source": [
    "shape = (\n",
    "    df.count(),\n",
    "    df.rdd.map(attrgetter(\"features\")).first().size\n",
    ")"
   ]
  },
  {
   "cell_type": "code",
   "execution_count": 27,
   "metadata": {
    "collapsed": true
   },
   "outputs": [],
   "source": [
    "from scipy.sparse import csr_matrix\n",
    "mat = csr_matrix((data, (row_indices, col_indices)), shape=shape)"
   ]
  },
  {
   "cell_type": "code",
   "execution_count": 28,
   "metadata": {
    "collapsed": false
   },
   "outputs": [
    {
     "data": {
      "text/plain": [
       "scipy.sparse.csr.csr_matrix"
      ]
     },
     "execution_count": 28,
     "metadata": {},
     "output_type": "execute_result"
    }
   ],
   "source": [
    "type(mat)"
   ]
  },
  {
   "cell_type": "markdown",
   "metadata": {},
   "source": [
    "# 6. Build term-term matrix"
   ]
  },
  {
   "cell_type": "code",
   "execution_count": 29,
   "metadata": {
    "collapsed": false
   },
   "outputs": [
    {
     "name": "stdout",
     "output_type": "stream",
     "text": [
      "CPU times: user 11.3 ms, sys: 0 ns, total: 11.3 ms\n",
      "Wall time: 10.6 ms\n"
     ]
    }
   ],
   "source": [
    "%time A = mat.transpose().dot(mat)"
   ]
  },
  {
   "cell_type": "code",
   "execution_count": 30,
   "metadata": {
    "collapsed": false
   },
   "outputs": [],
   "source": [
    "B = A.toarray()"
   ]
  },
  {
   "cell_type": "code",
   "execution_count": 31,
   "metadata": {
    "collapsed": false
   },
   "outputs": [
    {
     "data": {
      "text/plain": [
       "numpy.ndarray"
      ]
     },
     "execution_count": 31,
     "metadata": {},
     "output_type": "execute_result"
    }
   ],
   "source": [
    "type(B)"
   ]
  },
  {
   "cell_type": "code",
   "execution_count": 32,
   "metadata": {
    "collapsed": false
   },
   "outputs": [
    {
     "data": {
      "text/plain": [
       "(48, 48)"
      ]
     },
     "execution_count": 32,
     "metadata": {},
     "output_type": "execute_result"
    }
   ],
   "source": [
    "B.shape"
   ]
  },
  {
   "cell_type": "markdown",
   "metadata": {},
   "source": [
    "# 7. Extract the frequency large than 50"
   ]
  },
  {
   "cell_type": "code",
   "execution_count": 33,
   "metadata": {
    "collapsed": false
   },
   "outputs": [],
   "source": [
    "import numpy as np\n",
    "import pandas as pd\n",
    "uptri = np.triu(B, 1)"
   ]
  },
  {
   "cell_type": "code",
   "execution_count": 34,
   "metadata": {
    "collapsed": false
   },
   "outputs": [
    {
     "data": {
      "text/plain": [
       "array([  5173.,  16741.,  13883.,  10391.,   8181.,    754.,   5580.,\n",
       "         5301.,   5043.,   3529.,    643.,   3104.,   2282.,    567.,\n",
       "         2526.,    836.,   1379.,    453.,    481.,   2115.,   1036.,\n",
       "          606.,   1392.,   1059.,    825.,   1518.,   1099.,   1189.,\n",
       "          264.,   1101.,    870.,    720.,    801.,    800.,    557.,\n",
       "          735.,    275.,    237.,    688.,    953.,    560.,    276.,\n",
       "          312.,    815.,    409.,    279.,    543.,   3762.,   3746.,\n",
       "          319.,    208.,   5581.,    178.,    122.,    135.,    891.,\n",
       "         1283.,    101.,    453.,   2805.,     81.,   1471.,   1080.,\n",
       "         2154.,   2056.,     83.,    782.,   1185.,    132.,    491.,\n",
       "          690.,     55.,    131.,     82.,   1367.,    215.,    348.,\n",
       "          171.,    399.,    377.,    547.,    138.,    923.,    535.,\n",
       "          320.,     53.,    233.,    349.,    189.,    122.,    393.,\n",
       "          550.,    383.,   9806.,   7411.,   6002.,   1181.,   2537.,\n",
       "         3818.,   3469.,   4187.,    170.,   1307.,    466.,    576.,\n",
       "         1587.,    401.,    956.,    328.,    310.,   1141.,    270.,\n",
       "          245.,    112.,    545.,    288.,    743.,     81.,    195.,\n",
       "          358.,    783.,    140.,    162.,    247.,    125.,    142.,\n",
       "           92.,    163.,    107.,    144.,    423.,     76.,     79.,\n",
       "           59.,    324.,    105.,    177.,    150.,   7240.,   6328.,\n",
       "         1736.,   2560.,   3914.,   3400.,    451.,     86.,   1142.,\n",
       "          273.,    588.,   1596.,    559.,   1016.,    311.,    321.,\n",
       "          623.,    306.,    319.,     65.,    553.,    305.,    724.,\n",
       "           57.,    163.,    156.,    754.,     83.,    137.,    300.,\n",
       "          148.,    218.,     53.,    167.,    168.,    183.,    438.,\n",
       "           92.,    386.,    126.,    191.,    110.,   5944.,     64.,\n",
       "         1946.,   3500.,   3425.,    721.,    645.,     96.,   1013.,\n",
       "          141.,    593.,     62.,    382.,    101.,     67.,    400.,\n",
       "          123.,    515.,     53.,    126.,    597.,     79.,    195.,\n",
       "           91.,     94.,     97.,    344.,    284.,     58.,     65.,\n",
       "         1253.,   4074.,   2451.,    113.,    393.,     94.,    654.,\n",
       "          112.,    445.,    138.,     62.,    338.,     96.,    450.,\n",
       "           81.,    512.,     63.,    155.,     84.,     67.,     76.,\n",
       "          340.,    259.,     56.,    302.,    655.,    102.,    440.,\n",
       "          967.,    414.,    287.,    204.,    366.,    497.,    127.,\n",
       "          300.,    110.,     86.,    103.,    101.,     81.,    218.,\n",
       "          212.,    197.,     91.,     81.,    122.,    145.,    190.,\n",
       "          217.,    808.,   2605.,    148.,   1876.,    102.,   1968.,\n",
       "           62.,    179.,    522.,     74.,     61.,    149.,     84.,\n",
       "          250.,    111.,     81.,    419.,     74.,    120.,     93.,\n",
       "           54.,   1474.,     60.,    278.,     91.,    435.,     76.,\n",
       "          261.,    103.,    233.,     53.,    285.,     69.,    418.,\n",
       "           86.,     68.,    214.,    167.,    211.,    885.,     63.,\n",
       "         1406.,     60.,    247.,    305.,     54.,    198.,     66.,\n",
       "          225.,     87.,    457.,     53.,     69.,    141.,    109.,\n",
       "           80.,    211.,     66.,    123.,     78.,     72.,    162.,\n",
       "           98.,    683.,     54.,     52.,     75.,     66.,     67.,\n",
       "           56.,    121.,     73.,     75.,    124.,    322.,    194.,\n",
       "          345.,    301.,    153.,     56.,    106.,    105.,     64.,\n",
       "           60.,     65.,     67.,     84.,    169.,     86.,     69.,\n",
       "          106.,     64.,   1332.,     71.,   1015.,     51.,     73.,\n",
       "           70.,    125.,     63.,    252.,     56.,     56.,    175.,\n",
       "           57.,     63.,     56.,     51.,    201.,    182.,    203.,\n",
       "          100.,    113.,    134.,     67.,     82.,     67.,    127.,\n",
       "           66.,     53.,     83.,    102.,    420.,     96.,    128.,\n",
       "          322.,     69.,    128.,    126.,     83.,    104.,    183.,\n",
       "          270.,     62.,    145.,     68.,     86.,    108.,     60.,\n",
       "           64.,     58.,    133.,    111.,     77.,     59.,     63.,\n",
       "          164.,     61.,    130.,     56.,     67.,     70.,     51.,\n",
       "           60.,    157.,     89.,    159.,     66.,     79.,     96.,\n",
       "           57.,     73.,    179.,     67.,     55.,     70.,     58.,\n",
       "           73.,     81.,    145.,     55.,     71.,    215.,    112.,\n",
       "           65.,     63.,     73.,     61.,     52.,     68.,    115.,\n",
       "           56.,     51.,     58.,     80.,     72.,    113.,     84.,\n",
       "           71.,     58.,     60.,    103.,    104.,     57.,     78.,\n",
       "           76.,     51.,     58.,     90.,     55.,     53.,    105.,\n",
       "          121.,    109.,     98.,    261.,     72.])"
      ]
     },
     "execution_count": 34,
     "metadata": {},
     "output_type": "execute_result"
    }
   ],
   "source": [
    "uptri[uptri>50]"
   ]
  },
  {
   "cell_type": "code",
   "execution_count": 35,
   "metadata": {
    "collapsed": false
   },
   "outputs": [],
   "source": [
    "tempM = np.where( uptri >=50 )"
   ]
  },
  {
   "cell_type": "code",
   "execution_count": 36,
   "metadata": {
    "collapsed": false
   },
   "outputs": [],
   "source": [
    "index = pd.DataFrame(list(tempM)).transpose()"
   ]
  },
  {
   "cell_type": "code",
   "execution_count": 37,
   "metadata": {
    "collapsed": false
   },
   "outputs": [],
   "source": [
    "value = pd.DataFrame(list(uptri[uptri>=50]))"
   ]
  },
  {
   "cell_type": "code",
   "execution_count": 38,
   "metadata": {
    "collapsed": false
   },
   "outputs": [
    {
     "data": {
      "text/html": [
       "<div style=\"max-height:1000px;max-width:1500px;overflow:auto;\">\n",
       "<table border=\"1\" class=\"dataframe\">\n",
       "  <thead>\n",
       "    <tr style=\"text-align: right;\">\n",
       "      <th></th>\n",
       "      <th>0</th>\n",
       "    </tr>\n",
       "  </thead>\n",
       "  <tbody>\n",
       "    <tr>\n",
       "      <th>0</th>\n",
       "      <td>  Humans</td>\n",
       "    </tr>\n",
       "    <tr>\n",
       "      <th>1</th>\n",
       "      <td> Animals</td>\n",
       "    </tr>\n",
       "    <tr>\n",
       "      <th>2</th>\n",
       "      <td>  Female</td>\n",
       "    </tr>\n",
       "    <tr>\n",
       "      <th>3</th>\n",
       "      <td>    Male</td>\n",
       "    </tr>\n",
       "    <tr>\n",
       "      <th>4</th>\n",
       "      <td>   Adult</td>\n",
       "    </tr>\n",
       "  </tbody>\n",
       "</table>\n",
       "<p>5 rows × 1 columns</p>\n",
       "</div>"
      ],
      "text/plain": [
       "         0\n",
       "0   Humans\n",
       "1  Animals\n",
       "2   Female\n",
       "3     Male\n",
       "4    Adult\n",
       "\n",
       "[5 rows x 1 columns]"
      ]
     },
     "execution_count": 38,
     "metadata": {},
     "output_type": "execute_result"
    }
   ],
   "source": [
    "vocab = pd.DataFrame(voca)\n",
    "vocab.head()"
   ]
  },
  {
   "cell_type": "code",
   "execution_count": 39,
   "metadata": {
    "collapsed": false
   },
   "outputs": [],
   "source": [
    "indexFreq = pd.concat([index,value],axis=1)\n",
    "indexFreq.columns = ['index1','index2','freq']"
   ]
  },
  {
   "cell_type": "code",
   "execution_count": 40,
   "metadata": {
    "collapsed": false
   },
   "outputs": [
    {
     "data": {
      "text/html": [
       "<div style=\"max-height:1000px;max-width:1500px;overflow:auto;\">\n",
       "<table border=\"1\" class=\"dataframe\">\n",
       "  <thead>\n",
       "    <tr style=\"text-align: right;\">\n",
       "      <th></th>\n",
       "      <th>index1</th>\n",
       "      <th>index2</th>\n",
       "      <th>freq</th>\n",
       "    </tr>\n",
       "  </thead>\n",
       "  <tbody>\n",
       "    <tr>\n",
       "      <th>0</th>\n",
       "      <td> 0</td>\n",
       "      <td> 1</td>\n",
       "      <td>  5173</td>\n",
       "    </tr>\n",
       "    <tr>\n",
       "      <th>1</th>\n",
       "      <td> 0</td>\n",
       "      <td> 2</td>\n",
       "      <td> 16741</td>\n",
       "    </tr>\n",
       "    <tr>\n",
       "      <th>2</th>\n",
       "      <td> 0</td>\n",
       "      <td> 3</td>\n",
       "      <td> 13883</td>\n",
       "    </tr>\n",
       "    <tr>\n",
       "      <th>3</th>\n",
       "      <td> 0</td>\n",
       "      <td> 4</td>\n",
       "      <td> 10391</td>\n",
       "    </tr>\n",
       "    <tr>\n",
       "      <th>4</th>\n",
       "      <td> 0</td>\n",
       "      <td> 5</td>\n",
       "      <td>  8181</td>\n",
       "    </tr>\n",
       "  </tbody>\n",
       "</table>\n",
       "<p>5 rows × 3 columns</p>\n",
       "</div>"
      ],
      "text/plain": [
       "   index1  index2   freq\n",
       "0       0       1   5173\n",
       "1       0       2  16741\n",
       "2       0       3  13883\n",
       "3       0       4  10391\n",
       "4       0       5   8181\n",
       "\n",
       "[5 rows x 3 columns]"
      ]
     },
     "execution_count": 40,
     "metadata": {},
     "output_type": "execute_result"
    }
   ],
   "source": [
    "indexFreq.head()"
   ]
  },
  {
   "cell_type": "code",
   "execution_count": 41,
   "metadata": {
    "collapsed": false
   },
   "outputs": [],
   "source": [
    "join1 = indexFreq.join(vocab, on='index2',how='left')\n",
    "join1.columns = ['index1','index2','freq','term.x']"
   ]
  },
  {
   "cell_type": "code",
   "execution_count": 42,
   "metadata": {
    "collapsed": false
   },
   "outputs": [],
   "source": [
    "join2 = join1.join(vocab, on='index1',how='left')\n",
    "join2.columns = ['index1','index2','freq','term.x','term.y']"
   ]
  },
  {
   "cell_type": "code",
   "execution_count": 43,
   "metadata": {
    "collapsed": false
   },
   "outputs": [
    {
     "data": {
      "text/html": [
       "<div style=\"max-height:1000px;max-width:1500px;overflow:auto;\">\n",
       "<table border=\"1\" class=\"dataframe\">\n",
       "  <thead>\n",
       "    <tr style=\"text-align: right;\">\n",
       "      <th></th>\n",
       "      <th>index1</th>\n",
       "      <th>index2</th>\n",
       "      <th>freq</th>\n",
       "      <th>term.x</th>\n",
       "      <th>term.y</th>\n",
       "    </tr>\n",
       "  </thead>\n",
       "  <tbody>\n",
       "    <tr>\n",
       "      <th>0</th>\n",
       "      <td> 0</td>\n",
       "      <td> 1</td>\n",
       "      <td>  5173</td>\n",
       "      <td>    Animals</td>\n",
       "      <td> Humans</td>\n",
       "    </tr>\n",
       "    <tr>\n",
       "      <th>1</th>\n",
       "      <td> 0</td>\n",
       "      <td> 2</td>\n",
       "      <td> 16741</td>\n",
       "      <td>     Female</td>\n",
       "      <td> Humans</td>\n",
       "    </tr>\n",
       "    <tr>\n",
       "      <th>2</th>\n",
       "      <td> 0</td>\n",
       "      <td> 3</td>\n",
       "      <td> 13883</td>\n",
       "      <td>       Male</td>\n",
       "      <td> Humans</td>\n",
       "    </tr>\n",
       "    <tr>\n",
       "      <th>3</th>\n",
       "      <td> 0</td>\n",
       "      <td> 4</td>\n",
       "      <td> 10391</td>\n",
       "      <td>      Adult</td>\n",
       "      <td> Humans</td>\n",
       "    </tr>\n",
       "    <tr>\n",
       "      <th>4</th>\n",
       "      <td> 0</td>\n",
       "      <td> 5</td>\n",
       "      <td>  8181</td>\n",
       "      <td> MiddleAged</td>\n",
       "      <td> Humans</td>\n",
       "    </tr>\n",
       "  </tbody>\n",
       "</table>\n",
       "<p>5 rows × 5 columns</p>\n",
       "</div>"
      ],
      "text/plain": [
       "   index1  index2   freq      term.x  term.y\n",
       "0       0       1   5173     Animals  Humans\n",
       "1       0       2  16741      Female  Humans\n",
       "2       0       3  13883        Male  Humans\n",
       "3       0       4  10391       Adult  Humans\n",
       "4       0       5   8181  MiddleAged  Humans\n",
       "\n",
       "[5 rows x 5 columns]"
      ]
     },
     "execution_count": 43,
     "metadata": {},
     "output_type": "execute_result"
    }
   ],
   "source": [
    "join2.head()"
   ]
  },
  {
   "cell_type": "code",
   "execution_count": 44,
   "metadata": {
    "collapsed": false
   },
   "outputs": [],
   "source": [
    "output1 = join2[['term.x','term.y','freq']]"
   ]
  },
  {
   "cell_type": "code",
   "execution_count": 45,
   "metadata": {
    "collapsed": false,
    "scrolled": true
   },
   "outputs": [
    {
     "data": {
      "text/html": [
       "<div style=\"max-height:1000px;max-width:1500px;overflow:auto;\">\n",
       "<table border=\"1\" class=\"dataframe\">\n",
       "  <thead>\n",
       "    <tr style=\"text-align: right;\">\n",
       "      <th></th>\n",
       "      <th>term.x</th>\n",
       "      <th>term.y</th>\n",
       "      <th>freq</th>\n",
       "    </tr>\n",
       "  </thead>\n",
       "  <tbody>\n",
       "    <tr>\n",
       "      <th>0</th>\n",
       "      <td>    Animals</td>\n",
       "      <td> Humans</td>\n",
       "      <td>  5173</td>\n",
       "    </tr>\n",
       "    <tr>\n",
       "      <th>1</th>\n",
       "      <td>     Female</td>\n",
       "      <td> Humans</td>\n",
       "      <td> 16741</td>\n",
       "    </tr>\n",
       "    <tr>\n",
       "      <th>2</th>\n",
       "      <td>       Male</td>\n",
       "      <td> Humans</td>\n",
       "      <td> 13883</td>\n",
       "    </tr>\n",
       "    <tr>\n",
       "      <th>3</th>\n",
       "      <td>      Adult</td>\n",
       "      <td> Humans</td>\n",
       "      <td> 10391</td>\n",
       "    </tr>\n",
       "    <tr>\n",
       "      <th>4</th>\n",
       "      <td> MiddleAged</td>\n",
       "      <td> Humans</td>\n",
       "      <td>  8181</td>\n",
       "    </tr>\n",
       "  </tbody>\n",
       "</table>\n",
       "<p>5 rows × 3 columns</p>\n",
       "</div>"
      ],
      "text/plain": [
       "       term.x  term.y   freq\n",
       "0     Animals  Humans   5173\n",
       "1      Female  Humans  16741\n",
       "2        Male  Humans  13883\n",
       "3       Adult  Humans  10391\n",
       "4  MiddleAged  Humans   8181\n",
       "\n",
       "[5 rows x 3 columns]"
      ]
     },
     "execution_count": 45,
     "metadata": {},
     "output_type": "execute_result"
    }
   ],
   "source": [
    "output1.head()"
   ]
  },
  {
   "cell_type": "code",
   "execution_count": 46,
   "metadata": {
    "collapsed": false
   },
   "outputs": [],
   "source": [
    "output_sorted = output1.sort('freq',ascending=False)"
   ]
  },
  {
   "cell_type": "code",
   "execution_count": 47,
   "metadata": {
    "collapsed": false
   },
   "outputs": [
    {
     "data": {
      "text/html": [
       "<div style=\"max-height:1000px;max-width:1500px;overflow:auto;\">\n",
       "<table border=\"1\" class=\"dataframe\">\n",
       "  <thead>\n",
       "    <tr style=\"text-align: right;\">\n",
       "      <th></th>\n",
       "      <th>term.x</th>\n",
       "      <th>term.y</th>\n",
       "      <th>freq</th>\n",
       "    </tr>\n",
       "  </thead>\n",
       "  <tbody>\n",
       "    <tr>\n",
       "      <th>1 </th>\n",
       "      <td>     Female</td>\n",
       "      <td> Humans</td>\n",
       "      <td> 16741</td>\n",
       "    </tr>\n",
       "    <tr>\n",
       "      <th>2 </th>\n",
       "      <td>       Male</td>\n",
       "      <td> Humans</td>\n",
       "      <td> 13883</td>\n",
       "    </tr>\n",
       "    <tr>\n",
       "      <th>3 </th>\n",
       "      <td>      Adult</td>\n",
       "      <td> Humans</td>\n",
       "      <td> 10391</td>\n",
       "    </tr>\n",
       "    <tr>\n",
       "      <th>93</th>\n",
       "      <td>       Male</td>\n",
       "      <td> Female</td>\n",
       "      <td>  9806</td>\n",
       "    </tr>\n",
       "    <tr>\n",
       "      <th>4 </th>\n",
       "      <td> MiddleAged</td>\n",
       "      <td> Humans</td>\n",
       "      <td>  8181</td>\n",
       "    </tr>\n",
       "  </tbody>\n",
       "</table>\n",
       "<p>5 rows × 3 columns</p>\n",
       "</div>"
      ],
      "text/plain": [
       "        term.x  term.y   freq\n",
       "1       Female  Humans  16741\n",
       "2         Male  Humans  13883\n",
       "3        Adult  Humans  10391\n",
       "93        Male  Female   9806\n",
       "4   MiddleAged  Humans   8181\n",
       "\n",
       "[5 rows x 3 columns]"
      ]
     },
     "execution_count": 47,
     "metadata": {},
     "output_type": "execute_result"
    }
   ],
   "source": [
    "output_sorted.head()"
   ]
  },
  {
   "cell_type": "code",
   "execution_count": 48,
   "metadata": {
    "collapsed": false,
    "scrolled": true
   },
   "outputs": [
    {
     "name": "stdout",
     "output_type": "stream",
     "text": [
      "+----------+------+-------+\n",
      "|    term.x|term.y|   freq|\n",
      "+----------+------+-------+\n",
      "|    Female|Humans|16741.0|\n",
      "|      Male|Humans|13883.0|\n",
      "|     Adult|Humans|10391.0|\n",
      "|      Male|Female| 9806.0|\n",
      "|MiddleAged|Humans| 8181.0|\n",
      "|     Adult|Female| 7411.0|\n",
      "+----------+------+-------+\n",
      "only showing top 6 rows\n",
      "\n"
     ]
    }
   ],
   "source": [
    "spark.createDataFrame(output_sorted).show(6)"
   ]
  },
  {
   "cell_type": "code",
   "execution_count": 49,
   "metadata": {
    "collapsed": false
   },
   "outputs": [
    {
     "name": "stdout",
     "output_type": "stream",
     "text": [
      "CPU times: user 9.68 ms, sys: 529 µs, total: 10.2 ms\n",
      "Wall time: 9.84 ms\n"
     ]
    }
   ],
   "source": [
    "%time output_sorted.to_csv('data_out/ouput_Pyspark_w.csv', sep='\\t', encoding='utf-8')"
   ]
  },
  {
   "cell_type": "code",
   "execution_count": 50,
   "metadata": {
    "collapsed": true
   },
   "outputs": [],
   "source": [
    "output = output_sorted[['term.x','term.y']]"
   ]
  },
  {
   "cell_type": "code",
   "execution_count": 51,
   "metadata": {
    "collapsed": false
   },
   "outputs": [
    {
     "data": {
      "text/html": [
       "<div style=\"max-height:1000px;max-width:1500px;overflow:auto;\">\n",
       "<table border=\"1\" class=\"dataframe\">\n",
       "  <thead>\n",
       "    <tr style=\"text-align: right;\">\n",
       "      <th></th>\n",
       "      <th>term.x</th>\n",
       "      <th>term.y</th>\n",
       "    </tr>\n",
       "  </thead>\n",
       "  <tbody>\n",
       "    <tr>\n",
       "      <th>1 </th>\n",
       "      <td>     Female</td>\n",
       "      <td> Humans</td>\n",
       "    </tr>\n",
       "    <tr>\n",
       "      <th>2 </th>\n",
       "      <td>       Male</td>\n",
       "      <td> Humans</td>\n",
       "    </tr>\n",
       "    <tr>\n",
       "      <th>3 </th>\n",
       "      <td>      Adult</td>\n",
       "      <td> Humans</td>\n",
       "    </tr>\n",
       "    <tr>\n",
       "      <th>93</th>\n",
       "      <td>       Male</td>\n",
       "      <td> Female</td>\n",
       "    </tr>\n",
       "    <tr>\n",
       "      <th>4 </th>\n",
       "      <td> MiddleAged</td>\n",
       "      <td> Humans</td>\n",
       "    </tr>\n",
       "  </tbody>\n",
       "</table>\n",
       "<p>5 rows × 2 columns</p>\n",
       "</div>"
      ],
      "text/plain": [
       "        term.x  term.y\n",
       "1       Female  Humans\n",
       "2         Male  Humans\n",
       "3        Adult  Humans\n",
       "93        Male  Female\n",
       "4   MiddleAged  Humans\n",
       "\n",
       "[5 rows x 2 columns]"
      ]
     },
     "execution_count": 51,
     "metadata": {},
     "output_type": "execute_result"
    }
   ],
   "source": [
    "output.head()"
   ]
  },
  {
   "cell_type": "code",
   "execution_count": 52,
   "metadata": {
    "collapsed": false
   },
   "outputs": [
    {
     "name": "stdout",
     "output_type": "stream",
     "text": [
      "+----------+------+\n",
      "|    term.x|term.y|\n",
      "+----------+------+\n",
      "|    Female|Humans|\n",
      "|      Male|Humans|\n",
      "|     Adult|Humans|\n",
      "|      Male|Female|\n",
      "|MiddleAged|Humans|\n",
      "|     Adult|Female|\n",
      "+----------+------+\n",
      "only showing top 6 rows\n",
      "\n"
     ]
    }
   ],
   "source": [
    "spark.createDataFrame(output).show(6)"
   ]
  },
  {
   "cell_type": "code",
   "execution_count": 53,
   "metadata": {
    "collapsed": false
   },
   "outputs": [
    {
     "name": "stdout",
     "output_type": "stream",
     "text": [
      "CPU times: user 7.28 ms, sys: 1.17 ms, total: 8.45 ms\n",
      "Wall time: 6.61 ms\n"
     ]
    }
   ],
   "source": [
    "%time output.to_csv('data_out/ouput_Pyspark_wo.csv', sep='\\t', encoding='utf-8')"
   ]
  },
  {
   "cell_type": "code",
   "execution_count": 54,
   "metadata": {
    "collapsed": false
   },
   "outputs": [
    {
     "data": {
      "text/plain": [
       "(470, 2)"
      ]
     },
     "execution_count": 54,
     "metadata": {},
     "output_type": "execute_result"
    }
   ],
   "source": [
    "output.shape"
   ]
  },
  {
   "cell_type": "code",
   "execution_count": null,
   "metadata": {
    "collapsed": true
   },
   "outputs": [],
   "source": []
  }
 ],
 "metadata": {
  "anaconda-cloud": {},
  "kernelspec": {
   "display_name": "Python 2",
   "language": "python",
   "name": "python2"
  },
  "language_info": {
   "codemirror_mode": {
    "name": "ipython",
    "version": 2
   },
   "file_extension": ".py",
   "mimetype": "text/x-python",
   "name": "python",
   "nbconvert_exporter": "python",
   "pygments_lexer": "ipython2",
   "version": "2.7.6"
  }
 },
 "nbformat": 4,
 "nbformat_minor": 1
}

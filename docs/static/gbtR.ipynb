{
 "cells": [
  {
   "cell_type": "markdown",
   "metadata": {},
   "source": [
    "# Pyspark for RandomForest Regression"
   ]
  },
  {
   "cell_type": "markdown",
   "metadata": {},
   "source": [
    "### 1. Set up spark context and SparkSession"
   ]
  },
  {
   "cell_type": "code",
   "execution_count": 1,
   "metadata": {
    "collapsed": true
   },
   "outputs": [],
   "source": [
    "from pyspark.sql import SparkSession\n",
    "\n",
    "spark = SparkSession \\\n",
    "    .builder \\\n",
    "    .appName(\"Python Spark RandomForest Regression example\") \\\n",
    "    .config(\"spark.some.config.option\", \"some-value\") \\\n",
    "    .getOrCreate()"
   ]
  },
  {
   "cell_type": "markdown",
   "metadata": {},
   "source": [
    "### 2. Load dataset"
   ]
  },
  {
   "cell_type": "code",
   "execution_count": 2,
   "metadata": {
    "collapsed": true
   },
   "outputs": [],
   "source": [
    "df = spark.read.format('com.databricks.spark.csv').\\\n",
    "                               options(header='true', \\\n",
    "                               inferschema='true').load(\"../data/Advertising.csv\",header=True);"
   ]
  },
  {
   "cell_type": "code",
   "execution_count": 3,
   "metadata": {},
   "outputs": [
    {
     "name": "stdout",
     "output_type": "stream",
     "text": [
      "+-----+-----+---------+-----+\n",
      "|   TV|Radio|Newspaper|Sales|\n",
      "+-----+-----+---------+-----+\n",
      "|230.1| 37.8|     69.2| 22.1|\n",
      "| 44.5| 39.3|     45.1| 10.4|\n",
      "| 17.2| 45.9|     69.3|  9.3|\n",
      "|151.5| 41.3|     58.5| 18.5|\n",
      "|180.8| 10.8|     58.4| 12.9|\n",
      "+-----+-----+---------+-----+\n",
      "only showing top 5 rows\n",
      "\n",
      "root\n",
      " |-- TV: double (nullable = true)\n",
      " |-- Radio: double (nullable = true)\n",
      " |-- Newspaper: double (nullable = true)\n",
      " |-- Sales: double (nullable = true)\n",
      "\n"
     ]
    }
   ],
   "source": [
    "df.show(5,True)\n",
    "df.printSchema()"
   ]
  },
  {
   "cell_type": "code",
   "execution_count": 4,
   "metadata": {},
   "outputs": [
    {
     "data": {
      "text/plain": [
       "200"
      ]
     },
     "execution_count": 4,
     "metadata": {},
     "output_type": "execute_result"
    }
   ],
   "source": [
    "df.count()"
   ]
  },
  {
   "cell_type": "code",
   "execution_count": 5,
   "metadata": {
    "collapsed": true
   },
   "outputs": [],
   "source": [
    "# # Convert to float format\n",
    "# def string_to_float(x):\n",
    "#     return float(x)\n",
    "\n",
    "\n",
    "# from pyspark.sql.functions import udf\n",
    "# from pyspark.sql.types import StringType, DoubleType\n",
    "# string_to_float_udf = udf(string_to_float, DoubleType())\n",
    "\n",
    "# df = df.withColumn(\"horsepower\", string_to_float_udf(\"horsepower\"))"
   ]
  },
  {
   "cell_type": "code",
   "execution_count": 6,
   "metadata": {},
   "outputs": [
    {
     "name": "stdout",
     "output_type": "stream",
     "text": [
      "+-----+-----+---------+-----+\n",
      "|   TV|Radio|Newspaper|Sales|\n",
      "+-----+-----+---------+-----+\n",
      "|230.1| 37.8|     69.2| 22.1|\n",
      "| 44.5| 39.3|     45.1| 10.4|\n",
      "| 17.2| 45.9|     69.3|  9.3|\n",
      "|151.5| 41.3|     58.5| 18.5|\n",
      "|180.8| 10.8|     58.4| 12.9|\n",
      "+-----+-----+---------+-----+\n",
      "only showing top 5 rows\n",
      "\n",
      "root\n",
      " |-- TV: double (nullable = true)\n",
      " |-- Radio: double (nullable = true)\n",
      " |-- Newspaper: double (nullable = true)\n",
      " |-- Sales: double (nullable = true)\n",
      "\n"
     ]
    }
   ],
   "source": [
    "df.show(5,True)\n",
    "df.printSchema()"
   ]
  },
  {
   "cell_type": "code",
   "execution_count": 7,
   "metadata": {
    "scrolled": true
   },
   "outputs": [
    {
     "name": "stdout",
     "output_type": "stream",
     "text": [
      "+-------+-----------------+------------------+------------------+------------------+\n",
      "|summary|               TV|             Radio|         Newspaper|             Sales|\n",
      "+-------+-----------------+------------------+------------------+------------------+\n",
      "|  count|              200|               200|               200|               200|\n",
      "|   mean|         147.0425|23.264000000000024|30.553999999999995|14.022500000000003|\n",
      "| stddev|85.85423631490805|14.846809176168728| 21.77862083852283| 5.217456565710477|\n",
      "|    min|              0.7|               0.0|               0.3|               1.6|\n",
      "|    max|            296.4|              49.6|             114.0|              27.0|\n",
      "+-------+-----------------+------------------+------------------+------------------+\n",
      "\n"
     ]
    }
   ],
   "source": [
    "df.describe().show()"
   ]
  },
  {
   "cell_type": "markdown",
   "metadata": {},
   "source": [
    "### 3. Convert the data to dense vector"
   ]
  },
  {
   "cell_type": "markdown",
   "metadata": {},
   "source": [
    "- check the dataset and the Schema"
   ]
  },
  {
   "cell_type": "code",
   "execution_count": 8,
   "metadata": {
    "collapsed": true
   },
   "outputs": [],
   "source": [
    "from pyspark.sql import Row\n",
    "from pyspark.ml.linalg import Vectors"
   ]
  },
  {
   "cell_type": "code",
   "execution_count": 9,
   "metadata": {
    "collapsed": true
   },
   "outputs": [],
   "source": [
    "# convert the data to dense vector\n",
    "#def transData(row):\n",
    "#    return Row(label=row[\"Sales\"],\n",
    "#               features=Vectors.dense([row[\"TV\"],\n",
    "#                                       row[\"Radio\"],\n",
    "#                                       row[\"Newspaper\"]]))\n",
    "def transData(data):\n",
    "    return data.rdd.map(lambda r: [Vectors.dense(r[:-1]),r[-1]]).toDF(['features','label'])"
   ]
  },
  {
   "cell_type": "markdown",
   "metadata": {},
   "source": [
    "### 4. Transform the dataset to DataFrame"
   ]
  },
  {
   "cell_type": "code",
   "execution_count": 10,
   "metadata": {
    "collapsed": true
   },
   "outputs": [],
   "source": [
    "#transformed = df.rdd.map(transData).toDF() \n",
    "transformed= transData(df)"
   ]
  },
  {
   "cell_type": "code",
   "execution_count": 11,
   "metadata": {},
   "outputs": [
    {
     "name": "stdout",
     "output_type": "stream",
     "text": [
      "+-----------------+-----+\n",
      "|         features|label|\n",
      "+-----------------+-----+\n",
      "|[230.1,37.8,69.2]| 22.1|\n",
      "| [44.5,39.3,45.1]| 10.4|\n",
      "| [17.2,45.9,69.3]|  9.3|\n",
      "|[151.5,41.3,58.5]| 18.5|\n",
      "|[180.8,10.8,58.4]| 12.9|\n",
      "+-----------------+-----+\n",
      "only showing top 5 rows\n",
      "\n"
     ]
    }
   ],
   "source": [
    "transformed.show(5)"
   ]
  },
  {
   "cell_type": "markdown",
   "metadata": {},
   "source": [
    "### 5. Deal With Categorical Variables "
   ]
  },
  {
   "cell_type": "code",
   "execution_count": 12,
   "metadata": {
    "collapsed": true
   },
   "outputs": [],
   "source": [
    "from pyspark.ml import Pipeline\n",
    "from pyspark.ml.regression import LinearRegression\n",
    "from pyspark.ml.feature import VectorIndexer\n",
    "from pyspark.ml.evaluation import RegressionEvaluator"
   ]
  },
  {
   "cell_type": "code",
   "execution_count": 13,
   "metadata": {
    "collapsed": true
   },
   "outputs": [],
   "source": [
    "# Automatically identify categorical features, and index them.\n",
    "# We specify maxCategories so features with > 4 distinct values are treated as continuous.\n",
    "\n",
    "featureIndexer = VectorIndexer(inputCol=\"features\", \\\n",
    "                               outputCol=\"indexedFeatures\",\\\n",
    "                               maxCategories=4).fit(transformed)"
   ]
  },
  {
   "cell_type": "code",
   "execution_count": 14,
   "metadata": {
    "collapsed": true
   },
   "outputs": [],
   "source": [
    "data = featureIndexer.transform(transformed)"
   ]
  },
  {
   "cell_type": "code",
   "execution_count": 15,
   "metadata": {},
   "outputs": [
    {
     "name": "stdout",
     "output_type": "stream",
     "text": [
      "+-----------------+-----+-----------------+\n",
      "|         features|label|  indexedFeatures|\n",
      "+-----------------+-----+-----------------+\n",
      "|[230.1,37.8,69.2]| 22.1|[230.1,37.8,69.2]|\n",
      "| [44.5,39.3,45.1]| 10.4| [44.5,39.3,45.1]|\n",
      "| [17.2,45.9,69.3]|  9.3| [17.2,45.9,69.3]|\n",
      "|[151.5,41.3,58.5]| 18.5|[151.5,41.3,58.5]|\n",
      "|[180.8,10.8,58.4]| 12.9|[180.8,10.8,58.4]|\n",
      "+-----------------+-----+-----------------+\n",
      "only showing top 5 rows\n",
      "\n"
     ]
    }
   ],
   "source": [
    "data.show(5,True)"
   ]
  },
  {
   "cell_type": "markdown",
   "metadata": {},
   "source": [
    "### 6. Split the data to training and test data sets"
   ]
  },
  {
   "cell_type": "code",
   "execution_count": 16,
   "metadata": {
    "collapsed": true
   },
   "outputs": [],
   "source": [
    "# Split the data into training and test sets (40% held out for testing)\n",
    "(trainingData, testData) = data.randomSplit([0.6, 0.4])"
   ]
  },
  {
   "cell_type": "code",
   "execution_count": 17,
   "metadata": {},
   "outputs": [
    {
     "name": "stdout",
     "output_type": "stream",
     "text": [
      "+----------------+-----+----------------+\n",
      "|        features|label| indexedFeatures|\n",
      "+----------------+-----+----------------+\n",
      "|  [4.1,11.6,5.7]|  3.2|  [4.1,11.6,5.7]|\n",
      "|  [5.4,29.9,9.4]|  5.3|  [5.4,29.9,9.4]|\n",
      "|   [8.6,2.1,1.0]|  4.8|   [8.6,2.1,1.0]|\n",
      "| [13.1,0.4,25.6]|  5.3| [13.1,0.4,25.6]|\n",
      "|[17.9,37.6,21.6]|  8.0|[17.9,37.6,21.6]|\n",
      "+----------------+-----+----------------+\n",
      "only showing top 5 rows\n",
      "\n",
      "+---------------+-----+---------------+\n",
      "|       features|label|indexedFeatures|\n",
      "+---------------+-----+---------------+\n",
      "| [0.7,39.6,8.7]|  1.6| [0.7,39.6,8.7]|\n",
      "|[7.3,28.1,41.4]|  5.5|[7.3,28.1,41.4]|\n",
      "|[7.8,38.9,50.6]|  6.6|[7.8,38.9,50.6]|\n",
      "| [8.4,27.2,2.1]|  5.7| [8.4,27.2,2.1]|\n",
      "|[8.7,48.9,75.0]|  7.2|[8.7,48.9,75.0]|\n",
      "+---------------+-----+---------------+\n",
      "only showing top 5 rows\n",
      "\n"
     ]
    }
   ],
   "source": [
    "trainingData.show(5)\n",
    "testData.show(5)"
   ]
  },
  {
   "cell_type": "markdown",
   "metadata": {},
   "source": [
    "### 7. Fit RandomForest Regression Model"
   ]
  },
  {
   "cell_type": "code",
   "execution_count": 18,
   "metadata": {
    "collapsed": true
   },
   "outputs": [],
   "source": [
    "from pyspark.ml.regression import GBTRegressor\n",
    "\n",
    "gbt = GBTRegressor(featuresCol=\"indexedFeatures\", maxIter=100)"
   ]
  },
  {
   "cell_type": "markdown",
   "metadata": {},
   "source": [
    "### 8. Pipeline Architecture"
   ]
  },
  {
   "cell_type": "code",
   "execution_count": 19,
   "metadata": {
    "collapsed": true
   },
   "outputs": [],
   "source": [
    "# Chain indexer and tree in a Pipeline\n",
    "pipeline = Pipeline(stages=[featureIndexer, gbt])"
   ]
  },
  {
   "cell_type": "code",
   "execution_count": 20,
   "metadata": {
    "collapsed": true
   },
   "outputs": [],
   "source": [
    "model = pipeline.fit(trainingData)"
   ]
  },
  {
   "cell_type": "markdown",
   "metadata": {},
   "source": [
    "### 9. Summary of the Model"
   ]
  },
  {
   "cell_type": "code",
   "execution_count": 21,
   "metadata": {
    "collapsed": true
   },
   "outputs": [],
   "source": [
    "# def modelsummary(model):\n",
    "#     import numpy as np\n",
    "#     print (\"Note: the last rows are the information for Intercept\")\n",
    "#     print (\"##\",\"-------------------------------------------------\")\n",
    "#     print (\"##\",\"  Estimate   |   Std.Error | t Values  |  P-value\")\n",
    "#     coef = np.append(list(model.coefficients),model.intercept)\n",
    "#     Summary=model.summary\n",
    "    \n",
    "#     for i in range(len(Summary.pValues)):\n",
    "#         print (\"##\",'{:10.6f}'.format(coef[i]),\\\n",
    "#         '{:10.6f}'.format(Summary.coefficientStandardErrors[i]),\\\n",
    "#         '{:8.3f}'.format(Summary.tValues[i]),\\\n",
    "#         '{:10.6f}'.format(Summary.pValues[i]))\n",
    "        \n",
    "#     print (\"##\",'---')\n",
    "#     print (\"##\",\"Mean squared error: % .6f\" \\\n",
    "#            % Summary.meanSquaredError, \", RMSE: % .6f\" \\\n",
    "#            % Summary.rootMeanSquaredError )\n",
    "#     print (\"##\",\"Multiple R-squared: %f\" % Summary.r2, \", \\\n",
    "#             Total iterations: %i\"% Summary.totalIterations)    "
   ]
  },
  {
   "cell_type": "markdown",
   "metadata": {},
   "source": [
    "### 10. Make predictions"
   ]
  },
  {
   "cell_type": "code",
   "execution_count": 22,
   "metadata": {
    "collapsed": true
   },
   "outputs": [],
   "source": [
    "predictions = model.transform(testData)"
   ]
  },
  {
   "cell_type": "code",
   "execution_count": 23,
   "metadata": {},
   "outputs": [
    {
     "name": "stdout",
     "output_type": "stream",
     "text": [
      "+---------------+-----+-----------------+\n",
      "|       features|label|       prediction|\n",
      "+---------------+-----+-----------------+\n",
      "| [0.7,39.6,8.7]|  1.6|5.322928182336102|\n",
      "|[7.3,28.1,41.4]|  5.5|5.182267596482987|\n",
      "|[7.8,38.9,50.6]|  6.6|5.019960839826547|\n",
      "| [8.4,27.2,2.1]|  5.7|3.134398824899578|\n",
      "|[8.7,48.9,75.0]|  7.2|6.081063813160135|\n",
      "+---------------+-----+-----------------+\n",
      "only showing top 5 rows\n",
      "\n"
     ]
    }
   ],
   "source": [
    "# Select example rows to display.\n",
    "predictions.select(\"features\",\"label\", \"prediction\").show(5)"
   ]
  },
  {
   "cell_type": "markdown",
   "metadata": {},
   "source": [
    "### 11. Evaluation"
   ]
  },
  {
   "cell_type": "code",
   "execution_count": 24,
   "metadata": {},
   "outputs": [
    {
     "name": "stdout",
     "output_type": "stream",
     "text": [
      "Root Mean Squared Error (RMSE) on test data = 1.33595\n"
     ]
    }
   ],
   "source": [
    "# Select (prediction, true label) and compute test error\n",
    "evaluator = RegressionEvaluator(\n",
    "    labelCol=\"label\", predictionCol=\"prediction\", metricName=\"rmse\")\n",
    "rmse = evaluator.evaluate(predictions)\n",
    "print(\"Root Mean Squared Error (RMSE) on test data = %g\" % rmse)"
   ]
  },
  {
   "cell_type": "code",
   "execution_count": 25,
   "metadata": {
    "collapsed": true
   },
   "outputs": [],
   "source": [
    "y_true = predictions.select(\"label\").toPandas()\n",
    "y_pred = predictions.select(\"prediction\").toPandas()"
   ]
  },
  {
   "cell_type": "code",
   "execution_count": 26,
   "metadata": {},
   "outputs": [
    {
     "name": "stdout",
     "output_type": "stream",
     "text": [
      "r2_score: 0.937\n"
     ]
    }
   ],
   "source": [
    "import sklearn.metrics \n",
    "r2_score = sklearn.metrics.r2_score(y_true, y_pred)\n",
    "print('r2_score: {:4.3f}'.format(r2_score)) "
   ]
  },
  {
   "cell_type": "code",
   "execution_count": 27,
   "metadata": {},
   "outputs": [
    {
     "data": {
      "text/plain": [
       "SparseVector(3, {0: 0.3162, 1: 0.3905, 2: 0.2933})"
      ]
     },
     "execution_count": 27,
     "metadata": {},
     "output_type": "execute_result"
    }
   ],
   "source": [
    "model.stages[-1].featureImportances"
   ]
  },
  {
   "cell_type": "code",
   "execution_count": 28,
   "metadata": {},
   "outputs": [
    {
     "data": {
      "text/plain": [
       "[DecisionTreeRegressionModel (uid=dtr_6ecfcef81b52) of depth 5 with 61 nodes,\n",
       " DecisionTreeRegressionModel (uid=dtr_7b7490a8babc) of depth 5 with 37 nodes,\n",
       " DecisionTreeRegressionModel (uid=dtr_a1ef21bc4763) of depth 5 with 39 nodes,\n",
       " DecisionTreeRegressionModel (uid=dtr_f2a5665d36e6) of depth 5 with 33 nodes,\n",
       " DecisionTreeRegressionModel (uid=dtr_0d78f83b525e) of depth 5 with 39 nodes,\n",
       " DecisionTreeRegressionModel (uid=dtr_d8249c9f6871) of depth 5 with 43 nodes,\n",
       " DecisionTreeRegressionModel (uid=dtr_b5f7f6e44748) of depth 5 with 49 nodes,\n",
       " DecisionTreeRegressionModel (uid=dtr_75b36bc4b0f7) of depth 5 with 51 nodes,\n",
       " DecisionTreeRegressionModel (uid=dtr_9e32b04d48a7) of depth 5 with 57 nodes,\n",
       " DecisionTreeRegressionModel (uid=dtr_ee1b0eb4a5f9) of depth 5 with 45 nodes,\n",
       " DecisionTreeRegressionModel (uid=dtr_9f025eee9842) of depth 5 with 51 nodes,\n",
       " DecisionTreeRegressionModel (uid=dtr_9d1c2861bb1c) of depth 5 with 55 nodes,\n",
       " DecisionTreeRegressionModel (uid=dtr_d38be5812b7a) of depth 5 with 45 nodes,\n",
       " DecisionTreeRegressionModel (uid=dtr_be91fa84aec4) of depth 5 with 55 nodes,\n",
       " DecisionTreeRegressionModel (uid=dtr_50cdb56e0e79) of depth 5 with 29 nodes,\n",
       " DecisionTreeRegressionModel (uid=dtr_d01d0d221d2e) of depth 5 with 45 nodes,\n",
       " DecisionTreeRegressionModel (uid=dtr_54eb44ee5437) of depth 5 with 43 nodes,\n",
       " DecisionTreeRegressionModel (uid=dtr_d690e5915217) of depth 5 with 33 nodes,\n",
       " DecisionTreeRegressionModel (uid=dtr_bc2631284f86) of depth 5 with 45 nodes,\n",
       " DecisionTreeRegressionModel (uid=dtr_b583e75cdc51) of depth 5 with 53 nodes,\n",
       " DecisionTreeRegressionModel (uid=dtr_eb97e5a49bd8) of depth 5 with 47 nodes,\n",
       " DecisionTreeRegressionModel (uid=dtr_8d15da18e7a6) of depth 5 with 57 nodes,\n",
       " DecisionTreeRegressionModel (uid=dtr_03c618aec0b3) of depth 5 with 49 nodes,\n",
       " DecisionTreeRegressionModel (uid=dtr_ed906b5932b7) of depth 5 with 43 nodes,\n",
       " DecisionTreeRegressionModel (uid=dtr_a32c29eea21c) of depth 5 with 29 nodes,\n",
       " DecisionTreeRegressionModel (uid=dtr_aa0b4cb5397d) of depth 5 with 29 nodes,\n",
       " DecisionTreeRegressionModel (uid=dtr_736ab066436f) of depth 5 with 61 nodes,\n",
       " DecisionTreeRegressionModel (uid=dtr_99eede013894) of depth 5 with 43 nodes,\n",
       " DecisionTreeRegressionModel (uid=dtr_e34d069b40f8) of depth 5 with 37 nodes,\n",
       " DecisionTreeRegressionModel (uid=dtr_92e94896aa19) of depth 5 with 37 nodes,\n",
       " DecisionTreeRegressionModel (uid=dtr_c392293dabcd) of depth 5 with 37 nodes,\n",
       " DecisionTreeRegressionModel (uid=dtr_d2868be7cd6d) of depth 5 with 41 nodes,\n",
       " DecisionTreeRegressionModel (uid=dtr_2451427e280a) of depth 5 with 37 nodes,\n",
       " DecisionTreeRegressionModel (uid=dtr_ec761049fa6a) of depth 5 with 49 nodes,\n",
       " DecisionTreeRegressionModel (uid=dtr_19dd5484769d) of depth 5 with 49 nodes,\n",
       " DecisionTreeRegressionModel (uid=dtr_20062263ab15) of depth 5 with 63 nodes,\n",
       " DecisionTreeRegressionModel (uid=dtr_43f4324b834e) of depth 5 with 31 nodes,\n",
       " DecisionTreeRegressionModel (uid=dtr_c3650fa7e41e) of depth 5 with 45 nodes,\n",
       " DecisionTreeRegressionModel (uid=dtr_9bd36259a5d8) of depth 5 with 39 nodes,\n",
       " DecisionTreeRegressionModel (uid=dtr_db4185af95be) of depth 5 with 59 nodes,\n",
       " DecisionTreeRegressionModel (uid=dtr_a67db41787cd) of depth 5 with 29 nodes,\n",
       " DecisionTreeRegressionModel (uid=dtr_763f2cebd543) of depth 5 with 37 nodes,\n",
       " DecisionTreeRegressionModel (uid=dtr_0ce1130ecdeb) of depth 5 with 43 nodes,\n",
       " DecisionTreeRegressionModel (uid=dtr_343efa7ea56f) of depth 5 with 47 nodes,\n",
       " DecisionTreeRegressionModel (uid=dtr_aab355d189f9) of depth 5 with 41 nodes,\n",
       " DecisionTreeRegressionModel (uid=dtr_1af519da761a) of depth 5 with 35 nodes,\n",
       " DecisionTreeRegressionModel (uid=dtr_656523170539) of depth 5 with 47 nodes,\n",
       " DecisionTreeRegressionModel (uid=dtr_69e6d1eed181) of depth 5 with 29 nodes,\n",
       " DecisionTreeRegressionModel (uid=dtr_79f16d6d9d9b) of depth 5 with 41 nodes,\n",
       " DecisionTreeRegressionModel (uid=dtr_f6591faabf00) of depth 5 with 45 nodes,\n",
       " DecisionTreeRegressionModel (uid=dtr_2cfb41646f8d) of depth 5 with 45 nodes,\n",
       " DecisionTreeRegressionModel (uid=dtr_7ff653e8c570) of depth 5 with 29 nodes,\n",
       " DecisionTreeRegressionModel (uid=dtr_18f488fc53d0) of depth 5 with 55 nodes,\n",
       " DecisionTreeRegressionModel (uid=dtr_27f00a67f026) of depth 5 with 47 nodes,\n",
       " DecisionTreeRegressionModel (uid=dtr_8eeed486bae1) of depth 5 with 33 nodes,\n",
       " DecisionTreeRegressionModel (uid=dtr_17a9452fd37c) of depth 5 with 41 nodes,\n",
       " DecisionTreeRegressionModel (uid=dtr_e17296f054c5) of depth 5 with 29 nodes,\n",
       " DecisionTreeRegressionModel (uid=dtr_f725645b9bf4) of depth 5 with 49 nodes,\n",
       " DecisionTreeRegressionModel (uid=dtr_1b83140bedf6) of depth 5 with 37 nodes,\n",
       " DecisionTreeRegressionModel (uid=dtr_84d689971b03) of depth 5 with 37 nodes,\n",
       " DecisionTreeRegressionModel (uid=dtr_10663ad843a7) of depth 5 with 53 nodes,\n",
       " DecisionTreeRegressionModel (uid=dtr_4fa1bdca52ad) of depth 5 with 51 nodes,\n",
       " DecisionTreeRegressionModel (uid=dtr_da08aa84b01c) of depth 5 with 55 nodes,\n",
       " DecisionTreeRegressionModel (uid=dtr_ee212337a863) of depth 5 with 29 nodes,\n",
       " DecisionTreeRegressionModel (uid=dtr_ac0a877ba329) of depth 5 with 41 nodes,\n",
       " DecisionTreeRegressionModel (uid=dtr_e806fd1da5d6) of depth 5 with 41 nodes,\n",
       " DecisionTreeRegressionModel (uid=dtr_ce80ac9a159a) of depth 5 with 45 nodes,\n",
       " DecisionTreeRegressionModel (uid=dtr_325322adf562) of depth 5 with 49 nodes,\n",
       " DecisionTreeRegressionModel (uid=dtr_83eed3b28aa0) of depth 5 with 41 nodes,\n",
       " DecisionTreeRegressionModel (uid=dtr_4d3c56804680) of depth 5 with 55 nodes,\n",
       " DecisionTreeRegressionModel (uid=dtr_2020cf6e0a5a) of depth 5 with 55 nodes,\n",
       " DecisionTreeRegressionModel (uid=dtr_348a5eea374a) of depth 5 with 47 nodes,\n",
       " DecisionTreeRegressionModel (uid=dtr_7786fdd6c5f7) of depth 5 with 47 nodes,\n",
       " DecisionTreeRegressionModel (uid=dtr_ab9c5687a27e) of depth 5 with 43 nodes,\n",
       " DecisionTreeRegressionModel (uid=dtr_03e9f7e4e983) of depth 5 with 55 nodes,\n",
       " DecisionTreeRegressionModel (uid=dtr_b3718db83c11) of depth 5 with 45 nodes,\n",
       " DecisionTreeRegressionModel (uid=dtr_be4196f47afb) of depth 5 with 45 nodes,\n",
       " DecisionTreeRegressionModel (uid=dtr_df2806d12ac7) of depth 5 with 29 nodes,\n",
       " DecisionTreeRegressionModel (uid=dtr_4ce586eebbcf) of depth 5 with 41 nodes,\n",
       " DecisionTreeRegressionModel (uid=dtr_f686d195c379) of depth 5 with 53 nodes,\n",
       " DecisionTreeRegressionModel (uid=dtr_e99e8603ac47) of depth 5 with 27 nodes,\n",
       " DecisionTreeRegressionModel (uid=dtr_463eb4e4aee7) of depth 5 with 43 nodes,\n",
       " DecisionTreeRegressionModel (uid=dtr_36d8f87efdd3) of depth 5 with 49 nodes,\n",
       " DecisionTreeRegressionModel (uid=dtr_dcabe61464bd) of depth 5 with 47 nodes,\n",
       " DecisionTreeRegressionModel (uid=dtr_d6684c0bb10b) of depth 5 with 41 nodes,\n",
       " DecisionTreeRegressionModel (uid=dtr_4570e25e3bf3) of depth 5 with 35 nodes,\n",
       " DecisionTreeRegressionModel (uid=dtr_d3bba733c617) of depth 5 with 41 nodes,\n",
       " DecisionTreeRegressionModel (uid=dtr_d24aa5ed5ebe) of depth 5 with 51 nodes,\n",
       " DecisionTreeRegressionModel (uid=dtr_6e97d067ecfe) of depth 5 with 43 nodes,\n",
       " DecisionTreeRegressionModel (uid=dtr_6fb999360efe) of depth 5 with 55 nodes,\n",
       " DecisionTreeRegressionModel (uid=dtr_28147e04dc29) of depth 5 with 57 nodes,\n",
       " DecisionTreeRegressionModel (uid=dtr_49b477482a09) of depth 5 with 45 nodes,\n",
       " DecisionTreeRegressionModel (uid=dtr_5f408c3e208f) of depth 5 with 55 nodes,\n",
       " DecisionTreeRegressionModel (uid=dtr_b0677776d65c) of depth 5 with 35 nodes,\n",
       " DecisionTreeRegressionModel (uid=dtr_c91de78037ef) of depth 5 with 53 nodes,\n",
       " DecisionTreeRegressionModel (uid=dtr_f6f99c11bad4) of depth 5 with 45 nodes,\n",
       " DecisionTreeRegressionModel (uid=dtr_3e4c4d32b98b) of depth 5 with 29 nodes,\n",
       " DecisionTreeRegressionModel (uid=dtr_36d77c400801) of depth 5 with 43 nodes,\n",
       " DecisionTreeRegressionModel (uid=dtr_9d507d77d276) of depth 5 with 29 nodes,\n",
       " DecisionTreeRegressionModel (uid=dtr_d07456093aa7) of depth 5 with 37 nodes]"
      ]
     },
     "execution_count": 28,
     "metadata": {},
     "output_type": "execute_result"
    }
   ],
   "source": [
    "model.stages[-1].trees"
   ]
  },
  {
   "cell_type": "code",
   "execution_count": null,
   "metadata": {
    "collapsed": true
   },
   "outputs": [],
   "source": []
  }
 ],
 "metadata": {
  "anaconda-cloud": {},
  "kernelspec": {
   "display_name": "Python 2",
   "language": "python",
   "name": "python2"
  },
  "language_info": {
   "codemirror_mode": {
    "name": "ipython",
    "version": 2
   },
   "file_extension": ".py",
   "mimetype": "text/x-python",
   "name": "python",
   "nbconvert_exporter": "python",
   "pygments_lexer": "ipython2",
   "version": "2.7.13"
  }
 },
 "nbformat": 4,
 "nbformat_minor": 1
}

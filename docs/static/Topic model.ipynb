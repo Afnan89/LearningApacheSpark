{
 "cells": [
  {
   "cell_type": "code",
   "execution_count": 1,
   "metadata": {
    "collapsed": true
   },
   "outputs": [],
   "source": [
    "from pyspark.sql import SparkSession\n",
    "\n",
    "spark = SparkSession \\\n",
    "    .builder \\\n",
    "    .appName(\"Python Spark topic model\") \\\n",
    "    .config(\"spark.some.config.option\", \"some-value\") \\\n",
    "    .getOrCreate()"
   ]
  },
  {
   "cell_type": "code",
   "execution_count": 2,
   "metadata": {
    "collapsed": true
   },
   "outputs": [],
   "source": [
    "from pyspark.ml.feature import HashingTF, IDF, Tokenizer, CountVectorizer\n",
    "from pyspark.sql.types import *\n",
    "from pyspark.sql.functions import *\n",
    "from pyspark.ml.linalg import Vectors, SparseVector\n",
    "from pyspark.ml.clustering import LDA, BisectingKMeans\n",
    "from pyspark.sql.functions import monotonically_increasing_id\n",
    "import re"
   ]
  },
  {
   "cell_type": "code",
   "execution_count": 4,
   "metadata": {},
   "outputs": [],
   "source": [
    "rawdata = spark.read.format('com.databricks.spark.csv').\\\n",
    "                               options(header='true', \\\n",
    "                               inferschema='true').\\\n",
    "                     load(\"../data/airlines.csv\",header=True)"
   ]
  },
  {
   "cell_type": "code",
   "execution_count": 5,
   "metadata": {},
   "outputs": [
    {
     "name": "stdout",
     "output_type": "stream",
     "text": [
      "+-----+---------------+---------+--------+------+--------+-----+-----------+--------------------+---+----------+\n",
      "|   id|        airline|     date|location|rating|   cabin|value|recommended|              review|uid|year_month|\n",
      "+-----+---------------+---------+--------+------+--------+-----+-----------+--------------------+---+----------+\n",
      "|10001|Delta Air Lines|21-Jun-14|Thailand|     7| Economy|    4|        YES|Flew Mar 30 NRT t...|  0|   21-Jun-|\n",
      "|10002|Delta Air Lines|19-Jun-14|     USA|     0| Economy|    2|         NO|Flight 2463 leavi...|  1|   19-Jun-|\n",
      "|10003|Delta Air Lines|18-Jun-14|     USA|     0| Economy|    1|         NO|Delta Website fro...|  2|   18-Jun-|\n",
      "|10004|Delta Air Lines|17-Jun-14|     USA|     9|Business|    4|        YES|\"I just returned ...|  3|   17-Jun-|\n",
      "|10005|Delta Air Lines|17-Jun-14| Ecuador|     7| Economy|    3|        YES|\"Round-trip fligh...|  4|   17-Jun-|\n",
      "|10006|Delta Air Lines|17-Jun-14|     USA|     9|Business|    5|        YES|Narita - Bangkok ...|  5|   17-Jun-|\n",
      "|10007|Delta Air Lines|14-Jun-14|      UK|     0| Economy|    1|         NO|Flight from NY La...|  6|   14-Jun-|\n",
      "|10008|Delta Air Lines|14-Jun-14|     USA|     0| Economy|    1|         NO|Originally I had ...|  7|   14-Jun-|\n",
      "|10009|Delta Air Lines|13-Jun-14|     USA|     4|Business|    2|         NO|We flew paid busi...|  8|   13-Jun-|\n",
      "|10010|Delta Air Lines|13-Jun-14|      UK|     9| Economy|    3|        YES|\"I flew from Heat...|  9|   13-Jun-|\n",
      "+-----+---------------+---------+--------+------+--------+-----+-----------+--------------------+---+----------+\n",
      "only showing top 10 rows\n",
      "\n"
     ]
    }
   ],
   "source": [
    "rawdata = rawdata.fillna({'review': ''})                               # Replace nulls with blank string\n",
    "rawdata = rawdata.withColumn(\"uid\", monotonically_increasing_id())     # Create Unique ID\n",
    "rawdata = rawdata.withColumn(\"year_month\", rawdata.date.substr(1,7))   # Generate YYYY-MM variable\n",
    "\n",
    "# Show rawdata (as DataFrame)\n",
    "rawdata.show(10)"
   ]
  },
  {
   "cell_type": "code",
   "execution_count": 6,
   "metadata": {},
   "outputs": [
    {
     "name": "stdout",
     "output_type": "stream",
     "text": [
      "('id', 'int')\n",
      "('airline', 'string')\n",
      "('date', 'string')\n",
      "('location', 'string')\n",
      "('rating', 'int')\n",
      "('cabin', 'string')\n",
      "('value', 'int')\n",
      "('recommended', 'string')\n",
      "('review', 'string')\n",
      "('uid', 'bigint')\n",
      "('year_month', 'string')\n"
     ]
    },
    {
     "data": {
      "text/plain": [
       "[('rating', 'int')]"
      ]
     },
     "execution_count": 6,
     "metadata": {},
     "output_type": "execute_result"
    }
   ],
   "source": [
    "# Print data types\n",
    "for type in rawdata.dtypes:\n",
    "    print type\n",
    "\n",
    "target = rawdata.select(rawdata['rating'].cast(IntegerType()))\n",
    "target.dtypes\n"
   ]
  },
  {
   "cell_type": "code",
   "execution_count": 7,
   "metadata": {
    "collapsed": true
   },
   "outputs": [],
   "source": [
    "def cleanup_text(record):\n",
    "    text  = record[8]\n",
    "    uid   = record[9]\n",
    "    words = text.split()\n",
    "    \n",
    "    # Default list of Stopwords\n",
    "    stopwords_core = ['a', u'about', u'above', u'after', u'again', u'against', u'all', u'am', u'an', u'and', u'any', u'are', u'arent', u'as', u'at', \n",
    "    u'be', u'because', u'been', u'before', u'being', u'below', u'between', u'both', u'but', u'by', \n",
    "    u'can', 'cant', 'come', u'could', 'couldnt', \n",
    "    u'd', u'did', u'didn', u'do', u'does', u'doesnt', u'doing', u'dont', u'down', u'during', \n",
    "    u'each', \n",
    "    u'few', 'finally', u'for', u'from', u'further', \n",
    "    u'had', u'hadnt', u'has', u'hasnt', u'have', u'havent', u'having', u'he', u'her', u'here', u'hers', u'herself', u'him', u'himself', u'his', u'how', \n",
    "    u'i', u'if', u'in', u'into', u'is', u'isnt', u'it', u'its', u'itself', \n",
    "    u'just', \n",
    "    u'll', \n",
    "    u'm', u'me', u'might', u'more', u'most', u'must', u'my', u'myself', \n",
    "    u'no', u'nor', u'not', u'now', \n",
    "    u'o', u'of', u'off', u'on', u'once', u'only', u'or', u'other', u'our', u'ours', u'ourselves', u'out', u'over', u'own', \n",
    "    u'r', u're', \n",
    "    u's', 'said', u'same', u'she', u'should', u'shouldnt', u'so', u'some', u'such', \n",
    "    u't', u'than', u'that', 'thats', u'the', u'their', u'theirs', u'them', u'themselves', u'then', u'there', u'these', u'they', u'this', u'those', u'through', u'to', u'too', \n",
    "    u'under', u'until', u'up', \n",
    "    u'very', \n",
    "    u'was', u'wasnt', u'we', u'were', u'werent', u'what', u'when', u'where', u'which', u'while', u'who', u'whom', u'why', u'will', u'with', u'wont', u'would', \n",
    "    u'y', u'you', u'your', u'yours', u'yourself', u'yourselves']\n",
    "    \n",
    "    # Custom List of Stopwords - Add your own here\n",
    "    stopwords_custom = ['']\n",
    "    stopwords = stopwords_core + stopwords_custom\n",
    "    stopwords = [word.lower() for word in stopwords]    \n",
    "    \n",
    "    text_out = [re.sub('[^a-zA-Z0-9]','',word) for word in words]                                       # Remove special characters\n",
    "    text_out = [word.lower() for word in text_out if len(word)>2 and word.lower() not in stopwords]     # Remove stopwords and words under X length\n",
    "    return text_out\n",
    "\n",
    "udf_cleantext = udf(cleanup_text , ArrayType(StringType()))\n",
    "clean_text = rawdata.withColumn(\"words\", udf_cleantext(struct([rawdata[x] for x in rawdata.columns])))\n"
   ]
  },
  {
   "cell_type": "code",
   "execution_count": 9,
   "metadata": {},
   "outputs": [],
   "source": [
    "# Term Frequency Vectorization  - Option 2 (CountVectorizer)    : \n",
    "cv = CountVectorizer(inputCol=\"words\", outputCol=\"rawFeatures\", vocabSize = 1000)\n",
    "cvmodel = cv.fit(clean_text)\n",
    "featurizedData = cvmodel.transform(clean_text)\n",
    "\n",
    "vocab = cvmodel.vocabulary\n",
    "vocab_broadcast = spark.sparkContext.broadcast(vocab)\n",
    "\n",
    "idf = IDF(inputCol=\"rawFeatures\", outputCol=\"features\")\n",
    "idfModel = idf.fit(featurizedData)\n",
    "rescaledData = idfModel.transform(featurizedData)"
   ]
  },
  {
   "cell_type": "code",
   "execution_count": 10,
   "metadata": {},
   "outputs": [
    {
     "name": "stdout",
     "output_type": "stream",
     "text": [
      "+-----+--------------------+--------------------+\n",
      "|topic|         termIndices|         termWeights|\n",
      "+-----+--------------------+--------------------+\n",
      "|    0|[106, 301, 432, 7...|[0.02642483914460...|\n",
      "|    1|[218, 257, 312, 4...|[0.02860477465189...|\n",
      "|    2|[869, 639, 155, 2...|[0.01437555629232...|\n",
      "|    3|[139, 155, 50, 12...|[0.02946689912509...|\n",
      "|    4|[582, 640, 33, 16...|[0.01636880051698...|\n",
      "|    5|[498, 251, 48, 26...|[0.01998824201487...|\n",
      "|    6|[197, 791, 88, 39...|[0.03639006364794...|\n",
      "|    7|[459, 248, 386, 1...|[0.01892117257323...|\n",
      "|    8|[237, 761, 78, 31...|[0.01975997181346...|\n",
      "|    9|[411, 8, 629, 47,...|[0.01284467745242...|\n",
      "|   10|[573, 796, 723, 1...|[0.01320751612923...|\n",
      "|   11|[500, 363, 392, 2...|[0.02222368774827...|\n",
      "|   12|[136, 182, 5, 22,...|[0.01628267590187...|\n",
      "|   13|[780, 327, 368, 7...|[0.01180130842975...|\n",
      "|   14|[19, 71, 29, 4, 3...|[0.01849898845552...|\n",
      "|   15|[54, 8, 26, 389, ...|[0.02528842185304...|\n",
      "|   16|[601, 435, 100, 6...|[0.01486335804649...|\n",
      "|   17|[803, 750, 942, 4...|[0.01321685197525...|\n",
      "|   18|[607, 830, 156, 8...|[0.01302755207792...|\n",
      "|   19|[431, 980, 536, 7...|[0.01075254461350...|\n",
      "|   20|[21, 254, 158, 11...|[0.01763835986304...|\n",
      "|   21|[406, 274, 584, 1...|[0.02274192838402...|\n",
      "|   22|[84, 122, 86, 443...|[0.02436179391391...|\n",
      "|   23|[37, 786, 161, 90...|[0.01646874552174...|\n",
      "|   24|[410, 442, 548, 7...|[0.01560515003952...|\n",
      "+-----+--------------------+--------------------+\n",
      "\n",
      "+-----+---------------------------------------------------------------------------------------------+\n",
      "|topic|topic_desc                                                                                   |\n",
      "+-----+---------------------------------------------------------------------------------------------+\n",
      "|0    |[extra, row, main, segments, legroom, exit, cabin, pay, seat, seats]                         |\n",
      "|1    |[vegas, las, upgrade, economy, upgraded, seat, online, internal, dec, seats]                 |\n",
      "|2    |[oakland, nearly, phoenix, less, united, york, couple, lax, time, flights]                   |\n",
      "|3    |[san, phoenix, day, missed, connection, told, desk, connecting, diego, leaving]              |\n",
      "|4    |[son, supervisor, boarding, different, told, seattle, agent, southwest, got, check]          |\n",
      "|5    |[clt, wife, airways, class, miles, lga, club, coach, first, seats]                           |\n",
      "|6    |[phl, louisville, philadelphia, washington, laguardia, york, set, airways, rude, houston]    |\n",
      "|7    |[carry, overhead, recline, seat, fit, ice, may, crew, drink, price]                          |\n",
      "|8    |[sfo, dtw, southwest, orlando, lhr, delta, trip, flights, seats, storm]                      |\n",
      "|9    |[min, delta, representative, check, bus, landing, anyone, terminal, baggage, got]            |\n",
      "|10   |[lady, proceeded, wheelchair, ticket, name, cleveland, columbus, luggage, lost, ewr]         |\n",
      "|11   |[paris, detroit, philly, hrs, united, wifi, flights, hour, family, plane]                    |\n",
      "|12   |[denver, mechanical, hours, delayed, airport, connecting, hour, night, next, stuck]          |\n",
      "|13   |[priority, average, quality, guess, amsterdam, poor, nothing, etc, low, flights]             |\n",
      "|14   |[gate, bags, minutes, plane, passes, milwaukee, told, charlotte, sat, boarding]              |\n",
      "|15   |[business, delta, class, deltas, lax, 777, meal, cabin, sydney, usa]                         |\n",
      "|16   |[tampa, ord, atlanta, canada, day, got, cancelled, 2014, florida, next]                      |\n",
      "|17   |[phx, honolulu, hnl, economy, configuration, american, premium, 300, entertainment, class]   |\n",
      "|18   |[today, text, scheduled, frankfurt, actually, received, depart, gate, airport, philadelphia] |\n",
      "|19   |[dublin, louis, absolutely, france, usually, always, airplane, beginning, baggage, delays]   |\n",
      "|20   |[good, selection, served, excellent, drinks, better, comfortable, friendly, efficient, great]|\n",
      "|21   |[dallas, london, toronto, chicago, cancelled, rep, connecting, ohare, atlanta, next]         |\n",
      "|22   |[line, agent, asked, beverage, called, cup, agents, request, customer, boston]               |\n",
      "|23   |[return, mexico, seating, nov, ridiculous, delta, flew, knew, since, show]                   |\n",
      "|24   |[despite, employees, envoy, confirmed, level, lounge, phl, outbound, 1st, boarding]          |\n",
      "+-----+---------------------------------------------------------------------------------------------+\n",
      "\n",
      "+-----+---------------+---------+---------+------+--------+-----+-----------+--------------------+---+----------+--------------------+--------------------+--------------------+--------------------+\n",
      "|   id|        airline|     date| location|rating|   cabin|value|recommended|              review|uid|year_month|               words|         rawFeatures|            features|   topicDistribution|\n",
      "+-----+---------------+---------+---------+------+--------+-----+-----------+--------------------+---+----------+--------------------+--------------------+--------------------+--------------------+\n",
      "|10001|Delta Air Lines|21-Jun-14| Thailand|     7| Economy|    4|        YES|Flew Mar 30 NRT t...|  0|   21-Jun-|[flew, mar, nrt, ...|(1000,[0,3,11,25,...|(1000,[0,3,11,25,...|[0.03326456201885...|\n",
      "|10002|Delta Air Lines|19-Jun-14|      USA|     0| Economy|    2|         NO|Flight 2463 leavi...|  1|   19-Jun-|[flight, 2463, le...|(1000,[0,1,5,8,15...|(1000,[0,1,5,8,15...|[0.03232625963245...|\n",
      "|10003|Delta Air Lines|18-Jun-14|      USA|     0| Economy|    1|         NO|Delta Website fro...|  2|   18-Jun-|[delta, website, ...|(1000,[0,3,4,8,16...|(1000,[0,3,4,8,16...|[0.02085700304383...|\n",
      "|10004|Delta Air Lines|17-Jun-14|      USA|     9|Business|    4|        YES|\"I just returned ...|  3|   17-Jun-|[returned, roundt...|(1000,[0,1,2,3,8,...|(1000,[0,1,2,3,8,...|[0.04527142022336...|\n",
      "|10005|Delta Air Lines|17-Jun-14|  Ecuador|     7| Economy|    3|        YES|\"Round-trip fligh...|  4|   17-Jun-|[roundtrip, fligh...|(1000,[0,4,8,10,1...|(1000,[0,4,8,10,1...|[0.02298105114348...|\n",
      "|10006|Delta Air Lines|17-Jun-14|      USA|     9|Business|    5|        YES|Narita - Bangkok ...|  5|   17-Jun-|[narita, bangkok,...|(1000,[0,2,3,9,11...|(1000,[0,2,3,9,11...|[0.06414254068358...|\n",
      "|10007|Delta Air Lines|14-Jun-14|       UK|     0| Economy|    1|         NO|Flight from NY La...|  6|   14-Jun-|[flight, guardia,...|(1000,[0,5,8,15,1...|(1000,[0,5,8,15,1...|[0.03727844036603...|\n",
      "|10008|Delta Air Lines|14-Jun-14|      USA|     0| Economy|    1|         NO|Originally I had ...|  7|   14-Jun-|[originally, hour...|(1000,[3,4,8,15,1...|(1000,[3,4,8,15,1...|[0.05743576954905...|\n",
      "|10009|Delta Air Lines|13-Jun-14|      USA|     4|Business|    2|         NO|We flew paid busi...|  8|   13-Jun-|[flew, paid, busi...|(1000,[0,1,2,4,7,...|(1000,[0,1,2,4,7,...|[0.00818601624841...|\n",
      "|10010|Delta Air Lines|13-Jun-14|       UK|     9| Economy|    3|        YES|\"I flew from Heat...|  9|   13-Jun-|[flew, heathrow, ...|(1000,[0,2,8,10,1...|(1000,[0,2,8,10,1...|[0.02730860983757...|\n",
      "|10011|Delta Air Lines|11-Jun-14|      USA|    10| Economy|    4|        YES|I was a bit stubb...| 10|   11-Jun-|[bit, stubborn, f...|(1000,[0,1,8,9,14...|(1000,[0,1,8,9,14...|[0.03436124804780...|\n",
      "|10012|Delta Air Lines|10-Jun-14|Australia|    10| Economy|    5|        YES|JFK-LHR. Had a gr...| 11|   10-Jun-|[jfklhr, great, t...|(1000,[0,1,2,7,8,...|(1000,[0,1,2,7,8,...|[0.03453883309701...|\n",
      "|10013|Delta Air Lines| 9-Jun-14|      USA|     0| Economy|    1|         NO|My wife and I fly...| 12|   9-Jun-1|[wife, fly, frequ...|(1000,[0,8,12,15,...|(1000,[0,8,12,15,...|[0.01963686634138...|\n",
      "|10014|Delta Air Lines| 9-Jun-14|      USA|    10| Premium|    5|        YES|DL 1134 PBI-ATL. ...| 13|   9-Jun-1|[1134, pbiatl, gr...|(1000,[0,1,3,4,8,...|(1000,[0,1,3,4,8,...|[0.04123090360795...|\n",
      "|10015|Delta Air Lines| 6-Jun-14|      USA|     0| Economy|    2|         NO|Our flight from F...| 14|   6-Jun-1|[flight, fairbank...|(1000,[0,2,3,8,15...|(1000,[0,2,3,8,15...|[0.03666303645598...|\n",
      "|10016|Delta Air Lines| 5-Jun-14|      USA|     0| Economy|    1|         NO|On May 22 after a...| 15|   5-Jun-1|[may, 6hour, dela...|(1000,[0,1,8,12,2...|(1000,[0,1,8,12,2...|[0.01631403242961...|\n",
      "|10017|Delta Air Lines| 3-Jun-14|   Canada|     9| Economy|    4|        YES|Considering how D...| 16|   3-Jun-1|[considering, del...|(1000,[0,2,3,8,18...|(1000,[0,2,3,8,18...|[0.02790411410940...|\n",
      "|10018|Delta Air Lines| 2-Jun-14|      USA|     9| Economy|    5|        YES|Travelled MSP-LHR...| 17|   2-Jun-1|[travelled, msplh...|(1000,[0,1,3,7,8,...|(1000,[0,1,3,7,8,...|[0.08873045553886...|\n",
      "|10019|Delta Air Lines|29-May-14|      USA|     7|Business|    2|        YES|JFK-LAX on a 757-...| 18|   29-May-|[jfklax, 757200, ...|(1000,[0,2,7,9,11...|(1000,[0,2,7,9,11...|[0.02730426830552...|\n",
      "|10020|Delta Air Lines|28-May-14|       UK|     9| Economy|    3|        YES|Third long haul f...| 19|   28-May-|[third, long, hau...|(1000,[0,1,3,4,7,...|(1000,[0,1,3,4,7,...|[0.03560507051713...|\n",
      "+-----+---------------+---------+---------+------+--------+-----+-----------+--------------------+---+----------+--------------------+--------------------+--------------------+--------------------+\n",
      "only showing top 20 rows\n",
      "\n"
     ]
    }
   ],
   "source": [
    "lda = LDA(k=25, seed=123, optimizer=\"em\", featuresCol=\"features\")\n",
    "\n",
    "ldamodel = lda.fit(rescaledData)\n",
    "\n",
    "#model.isDistributed()\n",
    "#model.vocabSize()\n",
    "\n",
    "ldatopics = ldamodel.describeTopics()\n",
    "ldatopics.show(25)\n",
    "\n",
    "def map_termID_to_Word(termIndices):\n",
    "    words = []\n",
    "    for termID in termIndices:\n",
    "        words.append(vocab_broadcast.value[termID])\n",
    "    \n",
    "    return words\n",
    "\n",
    "udf_map_termID_to_Word = udf(map_termID_to_Word , ArrayType(StringType()))\n",
    "ldatopics_mapped = ldatopics.withColumn(\"topic_desc\", udf_map_termID_to_Word(ldatopics.termIndices))\n",
    "ldatopics_mapped.select(ldatopics_mapped.topic, ldatopics_mapped.topic_desc).show(25,False)\n",
    "\n",
    "ldaResults = ldamodel.transform(rescaledData)\n",
    "\n",
    "ldaResults.show()"
   ]
  },
  {
   "cell_type": "code",
   "execution_count": 11,
   "metadata": {},
   "outputs": [
    {
     "name": "stdout",
     "output_type": "stream",
     "text": [
      "+-----+---------------+---------+---------+------+--------+-----+-----------+--------------------+---+----------+--------------------+--------------------+--------------------+--------------------+-----------+-----------+\n",
      "|   id|        airline|     date| location|rating|   cabin|value|recommended|              review|uid|year_month|               words|         rawFeatures|            features|   topicDistribution|   Topic_12|   topic_20|\n",
      "+-----+---------------+---------+---------+------+--------+-----+-----------+--------------------+---+----------+--------------------+--------------------+--------------------+--------------------+-----------+-----------+\n",
      "|10001|Delta Air Lines|21-Jun-14| Thailand|     7| Economy|    4|        YES|Flew Mar 30 NRT t...|  0|   21-Jun-|[flew, mar, nrt, ...|(1000,[0,3,11,25,...|(1000,[0,3,11,25,...|[0.03326415802857...|0.025253229| 0.06195073|\n",
      "|10002|Delta Air Lines|19-Jun-14|      USA|     0| Economy|    2|         NO|Flight 2463 leavi...|  1|   19-Jun-|[flight, 2463, le...|(1000,[0,1,5,8,15...|(1000,[0,1,5,8,15...|[0.03232486314989...| 0.08269437|0.020200042|\n",
      "|10003|Delta Air Lines|18-Jun-14|      USA|     0| Economy|    1|         NO|Delta Website fro...|  2|   18-Jun-|[delta, website, ...|(1000,[0,3,4,8,16...|(1000,[0,3,4,8,16...|[0.02085698075981...|0.040911496|0.017439244|\n",
      "|10004|Delta Air Lines|17-Jun-14|      USA|     9|Business|    4|        YES|\"I just returned ...|  3|   17-Jun-|[returned, roundt...|(1000,[0,1,2,3,8,...|(1000,[0,1,2,3,8,...|[0.04526151471433...|0.017391125| 0.12358826|\n",
      "|10005|Delta Air Lines|17-Jun-14|  Ecuador|     7| Economy|    3|        YES|\"Round-trip fligh...|  4|   17-Jun-|[roundtrip, fligh...|(1000,[0,4,8,10,1...|(1000,[0,4,8,10,1...|[0.02298124769555...|0.021208849|0.034677133|\n",
      "|10006|Delta Air Lines|17-Jun-14|      USA|     9|Business|    5|        YES|Narita - Bangkok ...|  5|   17-Jun-|[narita, bangkok,...|(1000,[0,2,3,9,11...|(1000,[0,2,3,9,11...|[0.06414612270489...|0.024676373| 0.26749152|\n",
      "|10007|Delta Air Lines|14-Jun-14|       UK|     0| Economy|    1|         NO|Flight from NY La...|  6|   14-Jun-|[flight, guardia,...|(1000,[0,5,8,15,1...|(1000,[0,5,8,15,1...|[0.03727868879580...| 0.10142884|0.017945925|\n",
      "|10008|Delta Air Lines|14-Jun-14|      USA|     0| Economy|    1|         NO|Originally I had ...|  7|   14-Jun-|[originally, hour...|(1000,[3,4,8,15,1...|(1000,[3,4,8,15,1...|[0.05743520823425...|0.038723987|0.026779518|\n",
      "|10009|Delta Air Lines|13-Jun-14|      USA|     4|Business|    2|         NO|We flew paid busi...|  8|   13-Jun-|[flew, paid, busi...|(1000,[0,1,2,4,7,...|(1000,[0,1,2,4,7,...|[0.00818602124537...| 0.00990274|0.009590406|\n",
      "|10010|Delta Air Lines|13-Jun-14|       UK|     9| Economy|    3|        YES|\"I flew from Heat...|  9|   13-Jun-|[flew, heathrow, ...|(1000,[0,2,8,10,1...|(1000,[0,2,8,10,1...|[0.02731044813916...|0.014978507| 0.47008032|\n",
      "|10011|Delta Air Lines|11-Jun-14|      USA|    10| Economy|    4|        YES|I was a bit stubb...| 10|   11-Jun-|[bit, stubborn, f...|(1000,[0,1,8,9,14...|(1000,[0,1,8,9,14...|[0.03436191005907...|0.033330142|  0.0781504|\n",
      "|10012|Delta Air Lines|10-Jun-14|Australia|    10| Economy|    5|        YES|JFK-LHR. Had a gr...| 11|   10-Jun-|[jfklhr, great, t...|(1000,[0,1,2,7,8,...|(1000,[0,1,2,7,8,...|[0.03453884907253...|0.025291752|0.031639647|\n",
      "|10013|Delta Air Lines| 9-Jun-14|      USA|     0| Economy|    1|         NO|My wife and I fly...| 12|   9-Jun-1|[wife, fly, frequ...|(1000,[0,8,12,15,...|(1000,[0,8,12,15,...|[0.01963687552761...|  0.1330352|0.016855607|\n",
      "|10014|Delta Air Lines| 9-Jun-14|      USA|    10| Premium|    5|        YES|DL 1134 PBI-ATL. ...| 13|   9-Jun-1|[1134, pbiatl, gr...|(1000,[0,1,3,4,8,...|(1000,[0,1,3,4,8,...|[0.04123463300877...|0.029664947|0.037319645|\n",
      "|10015|Delta Air Lines| 6-Jun-14|      USA|     0| Economy|    2|         NO|Our flight from F...| 14|   6-Jun-1|[flight, fairbank...|(1000,[0,2,3,8,15...|(1000,[0,2,3,8,15...|[0.03666628535156...|0.029899566| 0.06101126|\n",
      "|10016|Delta Air Lines| 5-Jun-14|      USA|     0| Economy|    1|         NO|On May 22 after a...| 15|   5-Jun-1|[may, 6hour, dela...|(1000,[0,1,8,12,2...|(1000,[0,1,8,12,2...|[0.01631403299392...| 0.03292639| 0.01582332|\n",
      "|10017|Delta Air Lines| 3-Jun-14|   Canada|     9| Economy|    4|        YES|Considering how D...| 16|   3-Jun-1|[considering, del...|(1000,[0,2,3,8,18...|(1000,[0,2,3,8,18...|[0.02790415019083...|0.028120717| 0.05324145|\n",
      "|10018|Delta Air Lines| 2-Jun-14|      USA|     9| Economy|    5|        YES|Travelled MSP-LHR...| 17|   2-Jun-1|[travelled, msplh...|(1000,[0,1,3,7,8,...|(1000,[0,1,3,7,8,...|[0.08872333347169...| 0.03230573| 0.04259345|\n",
      "|10019|Delta Air Lines|29-May-14|      USA|     7|Business|    2|        YES|JFK-LAX on a 757-...| 18|   29-May-|[jfklax, 757200, ...|(1000,[0,2,7,9,11...|(1000,[0,2,7,9,11...|[0.02730544185479...|0.015876746| 0.14497969|\n",
      "|10020|Delta Air Lines|28-May-14|       UK|     9| Economy|    3|        YES|Third long haul f...| 19|   28-May-|[third, long, hau...|(1000,[0,1,3,4,7,...|(1000,[0,1,3,4,7,...|[0.03560495938954...| 0.02625587|  0.1474057|\n",
      "+-----+---------------+---------+---------+------+--------+-----+-----------+--------------------+---+----------+--------------------+--------------------+--------------------+--------------------+-----------+-----------+\n",
      "only showing top 20 rows\n",
      "\n"
     ]
    }
   ],
   "source": [
    "def breakout_array(index_number, record):\n",
    "    vectorlist = record.tolist()\n",
    "    return vectorlist[index_number]\n",
    "\n",
    "udf_breakout_array = udf(breakout_array, FloatType())\n",
    "enrichedData = ldaResults                                                                   \\\n",
    "        .withColumn(\"Topic_12\", udf_breakout_array(lit(12), ldaResults.topicDistribution))  \\\n",
    "        .withColumn(\"topic_20\", udf_breakout_array(lit(20), ldaResults.topicDistribution))            \n",
    "\n",
    "enrichedData.show()"
   ]
  },
  {
   "cell_type": "code",
   "execution_count": 12,
   "metadata": {},
   "outputs": [
    {
     "data": {
      "text/plain": [
       "DataFrame[id: int, airline: string, date: string, rating: int, topic_20: float]"
      ]
     },
     "execution_count": 12,
     "metadata": {},
     "output_type": "execute_result"
    }
   ],
   "source": [
    "enrichedData.createOrReplaceTempView(\"enrichedData\")\n",
    "\n",
    "spark.sql(\"SELECT id, airline, date, rating, topic_12 FROM enrichedData\")\n",
    "\n",
    "spark.sql(\"SELECT id, airline, date, rating, topic_20 FROM enrichedData\")"
   ]
  },
  {
   "cell_type": "code",
   "execution_count": null,
   "metadata": {
    "collapsed": true
   },
   "outputs": [],
   "source": []
  }
 ],
 "metadata": {
  "kernelspec": {
   "display_name": "Python 2",
   "language": "python",
   "name": "python2"
  },
  "language_info": {
   "codemirror_mode": {
    "name": "ipython",
    "version": 2
   },
   "file_extension": ".py",
   "mimetype": "text/x-python",
   "name": "python",
   "nbconvert_exporter": "python",
   "pygments_lexer": "ipython2",
   "version": "2.7.13"
  }
 },
 "nbformat": 4,
 "nbformat_minor": 2
}

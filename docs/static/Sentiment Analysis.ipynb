{
 "cells": [
  {
   "cell_type": "code",
   "execution_count": 1,
   "metadata": {
    "collapsed": true
   },
   "outputs": [],
   "source": [
    "from pyspark.sql import SparkSession\n",
    "\n",
    "spark = SparkSession \\\n",
    "    .builder \\\n",
    "    .appName(\"Python Spark Sentiment Analysis\") \\\n",
    "    .config(\"spark.some.config.option\", \"some-value\") \\\n",
    "    .getOrCreate()"
   ]
  },
  {
   "cell_type": "code",
   "execution_count": 2,
   "metadata": {
    "collapsed": true
   },
   "outputs": [],
   "source": [
    "from pyspark.ml.feature import HashingTF, IDF, Tokenizer, CountVectorizer\n",
    "from pyspark.sql.types import *\n",
    "from pyspark.sql.functions import *\n",
    "from pyspark.ml.linalg import Vectors, SparseVector\n",
    "from pyspark.ml.clustering import LDA, BisectingKMeans\n",
    "from pyspark.sql.functions import monotonically_increasing_id\n",
    "import re\n",
    "from textblob import TextBlob"
   ]
  },
  {
   "cell_type": "code",
   "execution_count": 3,
   "metadata": {
    "collapsed": true
   },
   "outputs": [],
   "source": [
    "rawdata_list =[\n",
    "    (100, 1,  'this is the best product, i love it.'),\n",
    "    (101, 0,  'this has been a great experience but the product was not satisfactory.'),\n",
    "    (102, 1,  'the product is awesome.'),\n",
    "    (103, -1, 'i hate the product and the price is terrible'),\n",
    "    (104, 1,  'the product works great and it is awesome to use'),\n",
    "    (105, -1, 'customer service was helpful but the product is expensive and it is bad')\n",
    "    ]\n",
    "\n",
    "rawdata = spark.createDataFrame(rawdata_list, ['id','lable','text'])"
   ]
  },
  {
   "cell_type": "code",
   "execution_count": 4,
   "metadata": {
    "collapsed": true
   },
   "outputs": [],
   "source": [
    "def zsentiment(text):\n",
    "    return TextBlob(text).sentiment.polarity"
   ]
  },
  {
   "cell_type": "code",
   "execution_count": 5,
   "metadata": {},
   "outputs": [
    {
     "name": "stdout",
     "output_type": "stream",
     "text": [
      "+---+-----+-----------------------------------------------------------------------+---------------+\n",
      "|id |lable|text                                                                   |sentiment_score|\n",
      "+---+-----+-----------------------------------------------------------------------+---------------+\n",
      "|100|1    |this is the best product, i love it.                                   |0.75           |\n",
      "|101|0    |this has been a great experience but the product was not satisfactory. |0.8            |\n",
      "|102|1    |the product is awesome.                                                |1.0            |\n",
      "|103|-1   |i hate the product and the price is terrible                           |-0.9           |\n",
      "|104|1    |the product works great and it is awesome to use                       |0.9            |\n",
      "|105|-1   |customer service was helpful but the product is expensive and it is bad|-0.6           |\n",
      "+---+-----+-----------------------------------------------------------------------+---------------+\n",
      "\n"
     ]
    }
   ],
   "source": [
    "udf_cleantext = udf(zsentiment , FloatType())\n",
    "text_variable = 'text'\n",
    "clean_text    = rawdata.withColumn(\"sentiment_score\", udf_cleantext( rawdata[text_variable] ))\n",
    "clean_text.show(10,False)"
   ]
  },
  {
   "cell_type": "code",
   "execution_count": null,
   "metadata": {
    "collapsed": true
   },
   "outputs": [],
   "source": []
  }
 ],
 "metadata": {
  "kernelspec": {
   "display_name": "Python 2",
   "language": "python",
   "name": "python2"
  },
  "language_info": {
   "codemirror_mode": {
    "name": "ipython",
    "version": 2
   },
   "file_extension": ".py",
   "mimetype": "text/x-python",
   "name": "python",
   "nbconvert_exporter": "python",
   "pygments_lexer": "ipython2",
   "version": "2.7.13"
  }
 },
 "nbformat": 4,
 "nbformat_minor": 2
}

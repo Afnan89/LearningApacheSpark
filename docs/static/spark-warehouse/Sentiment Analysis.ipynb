{
 "cells": [
  {
   "cell_type": "code",
   "execution_count": 5,
   "metadata": {
    "collapsed": true
   },
   "outputs": [],
   "source": [
    "from pyspark.sql import SparkSession\n",
    "\n",
    "spark = SparkSession \\\n",
    "    .builder \\\n",
    "    .appName(\"Python Spark Sentiment Analysis\") \\\n",
    "    .config(\"spark.some.config.option\", \"some-value\") \\\n",
    "    .getOrCreate()"
   ]
  },
  {
   "cell_type": "code",
   "execution_count": 6,
   "metadata": {
    "collapsed": true
   },
   "outputs": [],
   "source": [
    "from pyspark.ml.feature import HashingTF, IDF, Tokenizer, CountVectorizer\n",
    "from pyspark.sql.types import *\n",
    "from pyspark.sql.functions import *\n",
    "from pyspark.ml.linalg import Vectors, SparseVector\n",
    "from pyspark.ml.clustering import LDA, BisectingKMeans\n",
    "from pyspark.sql.functions import monotonically_increasing_id\n",
    "import re\n",
    "from textblob import TextBlob"
   ]
  },
  {
   "cell_type": "code",
   "execution_count": 18,
   "metadata": {
    "collapsed": true
   },
   "outputs": [],
   "source": [
    "df = spark.read.format('com.databricks.spark.csv').\\\n",
    "                               options(header='true', \\\n",
    "                               inferschema='true').load(\"../data/newtwitter.csv\",header=True);"
   ]
  },
  {
   "cell_type": "code",
   "execution_count": 19,
   "metadata": {},
   "outputs": [
    {
     "name": "stdout",
     "output_type": "stream",
     "text": [
      "+--------------------+----------+-------+\n",
      "|                text|        id|pubdate|\n",
      "+--------------------+----------+-------+\n",
      "|10 Things Missing...|2602860537|  18536|\n",
      "|RT @_NATURALBWINN...|2602850443|  18536|\n",
      "|RT @HBO24 yo the ...|2602761852|  18535|\n",
      "|Aaaaaaaand I have...|2602738438|  18535|\n",
      "|can I please have...|2602684185|  18535|\n",
      "+--------------------+----------+-------+\n",
      "only showing top 5 rows\n",
      "\n"
     ]
    }
   ],
   "source": [
    "df.show(5)"
   ]
  },
  {
   "cell_type": "code",
   "execution_count": 20,
   "metadata": {
    "collapsed": true
   },
   "outputs": [],
   "source": [
    "from pyspark.sql.functions import udf\n",
    "from pyspark.sql.types import StringType\n",
    "\n",
    "\n",
    "def strip_non_ascii(string):\n",
    "    ''' Returns the string without non ASCII characters'''\n",
    "    stripped = (c for c in string if 0 < ord(c) < 127)\n",
    "    return ''.join(stripped)\n",
    "\n",
    "strip_non_ascii_udf = udf(strip_non_ascii, StringType())\n",
    "\n",
    "def fix_abbreviation(string):\n",
    "    \"fix abbreviations in tweet\"\n",
    "      "
   ]
  },
  {
   "cell_type": "code",
   "execution_count": 21,
   "metadata": {},
   "outputs": [],
   "source": [
    "df = df.withColumn('text_non_asci',strip_non_ascii_udf(df['text']))"
   ]
  },
  {
   "cell_type": "code",
   "execution_count": 22,
   "metadata": {},
   "outputs": [
    {
     "name": "stdout",
     "output_type": "stream",
     "text": [
      "+--------------------+----------+-------+--------------------+\n",
      "|                text|        id|pubdate|       text_non_asci|\n",
      "+--------------------+----------+-------+--------------------+\n",
      "|10 Things Missing...|2602860537|  18536|10 Things Missing...|\n",
      "|RT @_NATURALBWINN...|2602850443|  18536|RT @_NATURALBWINN...|\n",
      "|RT @HBO24 yo the ...|2602761852|  18535|RT @HBO24 yo the ...|\n",
      "|Aaaaaaaand I have...|2602738438|  18535|Aaaaaaaand I have...|\n",
      "|can I please have...|2602684185|  18535|can I please have...|\n",
      "+--------------------+----------+-------+--------------------+\n",
      "only showing top 5 rows\n",
      "\n"
     ]
    }
   ],
   "source": [
    "df.show(5)"
   ]
  },
  {
   "cell_type": "code",
   "execution_count": 7,
   "metadata": {
    "collapsed": true
   },
   "outputs": [],
   "source": [
    "rawdata_list =[\n",
    "    (100, 1,  'this is the best product, i love it.'),\n",
    "    (101, 0,  'this has been a great experience but the product was not satisfactory.'),\n",
    "    (102, 1,  'the product is awesome.'),\n",
    "    (103, -1, 'i hate the product and the price is terrible'),\n",
    "    (104, 1,  'the product works great and it is awesome to use'),\n",
    "    (105, -1, 'customer service was helpful but the product is expensive and it is bad')\n",
    "    ]\n",
    "\n",
    "rawdata = spark.createDataFrame(rawdata_list, ['id','lable','text'])"
   ]
  },
  {
   "cell_type": "code",
   "execution_count": 8,
   "metadata": {
    "collapsed": true
   },
   "outputs": [],
   "source": [
    "def sentiment_analysis(text):\n",
    "    return TextBlob(text).sentiment.polarity"
   ]
  },
  {
   "cell_type": "code",
   "execution_count": 10,
   "metadata": {},
   "outputs": [
    {
     "name": "stdout",
     "output_type": "stream",
     "text": [
      "+---+-----+--------------------+---------------+\n",
      "| id|lable|                text|sentiment_score|\n",
      "+---+-----+--------------------+---------------+\n",
      "|100|    1|this is the best ...|           0.75|\n",
      "|101|    0|this has been a g...|            0.8|\n",
      "|102|    1|the product is aw...|            1.0|\n",
      "|103|   -1|i hate the produc...|           -0.9|\n",
      "|104|    1|the product works...|            0.9|\n",
      "|105|   -1|customer service ...|           -0.6|\n",
      "+---+-----+--------------------+---------------+\n",
      "\n"
     ]
    }
   ],
   "source": [
    "udf_cleantext = udf(sentiment_analysis , FloatType())\n",
    "text_variable = 'text'\n",
    "clean_text    = rawdata.withColumn(\"sentiment_score\", udf_cleantext( rawdata[text_variable] ))\n",
    "clean_text.show(10,True)"
   ]
  },
  {
   "cell_type": "code",
   "execution_count": 11,
   "metadata": {},
   "outputs": [],
   "source": [
    "import pandas as pd\n",
    "\n",
    "# To read a CSV file\n",
    "# df = pd.read_csv('sentences.csv')\n",
    "df = pd.DataFrame({'sentence': ['I am very happy', 'I am very sad', 'I am sad but I am happy too']})\n",
    "\n",
    "from textblob import TextBlob\n",
    "\n",
    "# The x in the lambda function is a row (because I set axis=1)\n",
    "# Apply iterates the function accross the dataframe's rows\n",
    "df['polarity'] = df.apply(lambda x: TextBlob(x['sentence']).sentiment.polarity, axis=1)\n",
    "df['subjectivity'] = df.apply(lambda x: TextBlob(x['sentence']).sentiment.subjectivity, axis=1)\n"
   ]
  },
  {
   "cell_type": "code",
   "execution_count": 4,
   "metadata": {},
   "outputs": [
    {
     "name": "stdout",
     "output_type": "stream",
     "text": [
      "                      sentence  polarity  subjectivity\n",
      "0              I am very happy      1.00           1.0\n",
      "1                I am very sad     -0.65           1.0\n",
      "2  I am sad but I am happy too      0.15           1.0\n"
     ]
    }
   ],
   "source": [
    "print(df)"
   ]
  },
  {
   "cell_type": "code",
   "execution_count": null,
   "metadata": {
    "collapsed": true
   },
   "outputs": [],
   "source": []
  }
 ],
 "metadata": {
  "kernelspec": {
   "display_name": "Python 2",
   "language": "python",
   "name": "python2"
  },
  "language_info": {
   "codemirror_mode": {
    "name": "ipython",
    "version": 2
   },
   "file_extension": ".py",
   "mimetype": "text/x-python",
   "name": "python",
   "nbconvert_exporter": "python",
   "pygments_lexer": "ipython2",
   "version": "2.7.13"
  }
 },
 "nbformat": 4,
 "nbformat_minor": 2
}
